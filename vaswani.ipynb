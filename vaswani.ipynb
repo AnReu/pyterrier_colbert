{
  "nbformat": 4,
  "nbformat_minor": 0,
  "metadata": {
    "colab": {
      "name": "Copia di pyt_colbert.ipynb",
      "provenance": [],
      "collapsed_sections": [],
      "toc_visible": true
    },
    "kernelspec": {
      "name": "python3",
      "display_name": "Python 3"
    },
    "accelerator": "GPU"
  },
  "cells": [
    {
      "cell_type": "markdown",
      "metadata": {
        "id": "_EuVMEOBOcib"
      },
      "source": [
        "# PyTerrier ColBERT Demo Notebook - Vaswani\n",
        "\n",
        "This notebook demonstrates use of [PyTerrier plugin for ColBERT](https://github.com/terrierteam/pyterrier_colbert) for dense passage retrieval. \n",
        "\n",
        "[ColBERT](https://github.com/stanford-futuredata/ColBERT/tree/v0.2) is a fast and accurate retrieval model, enabling scalable BERT-based search over large text collections in tens of milliseconds. ColBERT relies on fine-grained contextual late interaction: it encodes each passage into a matrix of token-level embeddings. Then at search time, it embeds every query into another matrix of token-level embeddings and efficiently finds passages that contextually match the query using scalable vector-similarity (MaxSim) operators. \n",
        "\n",
        "\n",
        "[ColBERT](https://arxiv.org/abs/2004.12832) is built on top of [BERT](https://arxiv.org/abs/1810.04805). ColBERT surpasses the quality of single-vector representation models, while scaling efficiently to large corpora. \n",
        "\n",
        "The corpus used in this demo is the [Vaswani NPL corpus](http://ir.dcs.gla.ac.uk/resources/test_collections/npl/), a corpus of 11,429 scientific abstract, with corresponding queries and relevance assessments."
      ]
    },
    {
      "cell_type": "markdown",
      "metadata": {
        "id": "WVdiFSfQPWpr"
      },
      "source": [
        "## Installation \n",
        "\n",
        "We need to install [PyTerrier](https://github.com/terrier-org/pyterrier)."
      ]
    },
    {
      "cell_type": "code",
      "metadata": {
        "id": "6szZMYozPdw8",
        "colab": {
          "base_uri": "https://localhost:8080/"
        },
        "outputId": "552add34-8f4d-41a3-8454-30f2a5720d69"
      },
      "source": [
        "!pip install python-terrier"
      ],
      "execution_count": 3,
      "outputs": [
        {
          "output_type": "stream",
          "text": [
            "Requirement already satisfied: python-terrier in /usr/local/lib/python3.7/dist-packages (0.4.0)\n",
            "Requirement already satisfied: nptyping in /usr/local/lib/python3.7/dist-packages (from python-terrier) (1.4.0)\n",
            "Requirement already satisfied: scipy in /usr/local/lib/python3.7/dist-packages (from python-terrier) (1.4.1)\n",
            "Requirement already satisfied: deprecation in /usr/local/lib/python3.7/dist-packages (from python-terrier) (2.1.0)\n",
            "Requirement already satisfied: more-itertools in /usr/local/lib/python3.7/dist-packages (from python-terrier) (8.7.0)\n",
            "Requirement already satisfied: wget in /usr/local/lib/python3.7/dist-packages (from python-terrier) (3.2)\n",
            "Requirement already satisfied: matchpy in /usr/local/lib/python3.7/dist-packages (from python-terrier) (0.5.4)\n",
            "Requirement already satisfied: tqdm in /usr/local/lib/python3.7/dist-packages (from python-terrier) (4.41.1)\n",
            "Requirement already satisfied: pyjnius~=1.3.0 in /usr/local/lib/python3.7/dist-packages (from python-terrier) (1.3.0)\n",
            "Requirement already satisfied: pytrec-eval>=0.5 in /usr/local/lib/python3.7/dist-packages (from python-terrier) (0.5)\n",
            "Requirement already satisfied: numpy in /usr/local/lib/python3.7/dist-packages (from python-terrier) (1.19.5)\n",
            "Requirement already satisfied: jinja2 in /usr/local/lib/python3.7/dist-packages (from python-terrier) (2.11.3)\n",
            "Requirement already satisfied: pandas in /usr/local/lib/python3.7/dist-packages (from python-terrier) (1.1.5)\n",
            "Requirement already satisfied: chest in /usr/local/lib/python3.7/dist-packages (from python-terrier) (0.2.3)\n",
            "Requirement already satisfied: requests in /usr/local/lib/python3.7/dist-packages (from python-terrier) (2.23.0)\n",
            "Requirement already satisfied: tabulate in /usr/local/lib/python3.7/dist-packages (from python-terrier) (0.8.9)\n",
            "Requirement already satisfied: sphinx-rtd-theme in /usr/local/lib/python3.7/dist-packages (from python-terrier) (0.5.1)\n",
            "Requirement already satisfied: myst-parser in /usr/local/lib/python3.7/dist-packages (from python-terrier) (0.13.5)\n",
            "Requirement already satisfied: ir-datasets>=0.2.0 in /usr/local/lib/python3.7/dist-packages (from python-terrier) (0.3.2)\n",
            "Requirement already satisfied: sklearn in /usr/local/lib/python3.7/dist-packages (from python-terrier) (0.0)\n",
            "Requirement already satisfied: typish>=1.7.0 in /usr/local/lib/python3.7/dist-packages (from nptyping->python-terrier) (1.9.1)\n",
            "Requirement already satisfied: packaging in /usr/local/lib/python3.7/dist-packages (from deprecation->python-terrier) (20.9)\n",
            "Requirement already satisfied: multiset<3.0,>=2.0 in /usr/local/lib/python3.7/dist-packages (from matchpy->python-terrier) (2.1.1)\n",
            "Requirement already satisfied: six>=1.7.0 in /usr/local/lib/python3.7/dist-packages (from pyjnius~=1.3.0->python-terrier) (1.15.0)\n",
            "Requirement already satisfied: cython in /usr/local/lib/python3.7/dist-packages (from pyjnius~=1.3.0->python-terrier) (0.29.22)\n",
            "Requirement already satisfied: MarkupSafe>=0.23 in /usr/local/lib/python3.7/dist-packages (from jinja2->python-terrier) (1.1.1)\n",
            "Requirement already satisfied: python-dateutil>=2.7.3 in /usr/local/lib/python3.7/dist-packages (from pandas->python-terrier) (2.8.1)\n",
            "Requirement already satisfied: pytz>=2017.2 in /usr/local/lib/python3.7/dist-packages (from pandas->python-terrier) (2018.9)\n",
            "Requirement already satisfied: heapdict in /usr/local/lib/python3.7/dist-packages (from chest->python-terrier) (1.0.1)\n",
            "Requirement already satisfied: idna<3,>=2.5 in /usr/local/lib/python3.7/dist-packages (from requests->python-terrier) (2.10)\n",
            "Requirement already satisfied: chardet<4,>=3.0.2 in /usr/local/lib/python3.7/dist-packages (from requests->python-terrier) (3.0.4)\n",
            "Requirement already satisfied: certifi>=2017.4.17 in /usr/local/lib/python3.7/dist-packages (from requests->python-terrier) (2020.12.5)\n",
            "Requirement already satisfied: urllib3!=1.25.0,!=1.25.1,<1.26,>=1.21.1 in /usr/local/lib/python3.7/dist-packages (from requests->python-terrier) (1.24.3)\n",
            "Requirement already satisfied: sphinx in /usr/local/lib/python3.7/dist-packages (from sphinx-rtd-theme->python-terrier) (3.5.2)\n",
            "Requirement already satisfied: mdit-py-plugins~=0.2.5 in /usr/local/lib/python3.7/dist-packages (from myst-parser->python-terrier) (0.2.5)\n",
            "Requirement already satisfied: markdown-it-py~=0.6.2 in /usr/local/lib/python3.7/dist-packages (from myst-parser->python-terrier) (0.6.2)\n",
            "Requirement already satisfied: pyyaml in /usr/local/lib/python3.7/dist-packages (from myst-parser->python-terrier) (5.4.1)\n",
            "Requirement already satisfied: docutils>=0.15 in /usr/local/lib/python3.7/dist-packages (from myst-parser->python-terrier) (0.16)\n",
            "Requirement already satisfied: lz4>=3.1.1 in /usr/local/lib/python3.7/dist-packages (from ir-datasets>=0.2.0->python-terrier) (3.1.3)\n",
            "Requirement already satisfied: zlib-state>=0.1.3 in /usr/local/lib/python3.7/dist-packages (from ir-datasets>=0.2.0->python-terrier) (0.1.3)\n",
            "Requirement already satisfied: ijson>=3.1.3 in /usr/local/lib/python3.7/dist-packages (from ir-datasets>=0.2.0->python-terrier) (3.1.4)\n",
            "Requirement already satisfied: trec-car-tools>=2.5.4 in /usr/local/lib/python3.7/dist-packages (from ir-datasets>=0.2.0->python-terrier) (2.5.4)\n",
            "Requirement already satisfied: warc3-wet>=0.2.3 in /usr/local/lib/python3.7/dist-packages (from ir-datasets>=0.2.0->python-terrier) (0.2.3)\n",
            "Requirement already satisfied: warc3-wet-clueweb09>=0.2.5 in /usr/local/lib/python3.7/dist-packages (from ir-datasets>=0.2.0->python-terrier) (0.2.5)\n",
            "Requirement already satisfied: lxml>=4.5.2 in /usr/local/lib/python3.7/dist-packages (from ir-datasets>=0.2.0->python-terrier) (4.6.2)\n",
            "Requirement already satisfied: beautifulsoup4>=4.4.1 in /usr/local/lib/python3.7/dist-packages (from ir-datasets>=0.2.0->python-terrier) (4.6.3)\n",
            "Requirement already satisfied: scikit-learn in /usr/local/lib/python3.7/dist-packages (from sklearn->python-terrier) (0.22.2.post1)\n",
            "Requirement already satisfied: pyparsing>=2.0.2 in /usr/local/lib/python3.7/dist-packages (from packaging->deprecation->python-terrier) (2.4.7)\n",
            "Requirement already satisfied: sphinxcontrib-applehelp in /usr/local/lib/python3.7/dist-packages (from sphinx->sphinx-rtd-theme->python-terrier) (1.0.2)\n",
            "Requirement already satisfied: imagesize in /usr/local/lib/python3.7/dist-packages (from sphinx->sphinx-rtd-theme->python-terrier) (1.2.0)\n",
            "Requirement already satisfied: setuptools in /usr/local/lib/python3.7/dist-packages (from sphinx->sphinx-rtd-theme->python-terrier) (54.0.0)\n",
            "Requirement already satisfied: babel>=1.3 in /usr/local/lib/python3.7/dist-packages (from sphinx->sphinx-rtd-theme->python-terrier) (2.9.0)\n",
            "Requirement already satisfied: Pygments>=2.0 in /usr/local/lib/python3.7/dist-packages (from sphinx->sphinx-rtd-theme->python-terrier) (2.6.1)\n",
            "Requirement already satisfied: alabaster<0.8,>=0.7 in /usr/local/lib/python3.7/dist-packages (from sphinx->sphinx-rtd-theme->python-terrier) (0.7.12)\n",
            "Requirement already satisfied: sphinxcontrib-htmlhelp in /usr/local/lib/python3.7/dist-packages (from sphinx->sphinx-rtd-theme->python-terrier) (1.0.3)\n",
            "Requirement already satisfied: sphinxcontrib-devhelp in /usr/local/lib/python3.7/dist-packages (from sphinx->sphinx-rtd-theme->python-terrier) (1.0.2)\n",
            "Requirement already satisfied: sphinxcontrib-serializinghtml in /usr/local/lib/python3.7/dist-packages (from sphinx->sphinx-rtd-theme->python-terrier) (1.1.4)\n",
            "Requirement already satisfied: sphinxcontrib-qthelp in /usr/local/lib/python3.7/dist-packages (from sphinx->sphinx-rtd-theme->python-terrier) (1.0.3)\n",
            "Requirement already satisfied: snowballstemmer>=1.1 in /usr/local/lib/python3.7/dist-packages (from sphinx->sphinx-rtd-theme->python-terrier) (2.1.0)\n",
            "Requirement already satisfied: sphinxcontrib-jsmath in /usr/local/lib/python3.7/dist-packages (from sphinx->sphinx-rtd-theme->python-terrier) (1.0.1)\n",
            "Requirement already satisfied: attrs<21,>=19 in /usr/local/lib/python3.7/dist-packages (from markdown-it-py~=0.6.2->myst-parser->python-terrier) (20.3.0)\n",
            "Requirement already satisfied: cbor>=1.0.0 in /usr/local/lib/python3.7/dist-packages (from trec-car-tools>=2.5.4->ir-datasets>=0.2.0->python-terrier) (1.0.0)\n",
            "Requirement already satisfied: joblib>=0.11 in /usr/local/lib/python3.7/dist-packages (from scikit-learn->sklearn->python-terrier) (1.0.1)\n"
          ],
          "name": "stdout"
        }
      ]
    },
    {
      "cell_type": "markdown",
      "metadata": {
        "id": "DiKQMcrEPdkC"
      },
      "source": [
        "This installs the [PyTerrier plugin for ColBERT](https://github.com/terrierteam/pyterrier_colbert). It supplies an indexer and a retrieval transformer."
      ]
    },
    {
      "cell_type": "code",
      "metadata": {
        "id": "fxDlO_Z2PdAZ",
        "colab": {
          "base_uri": "https://localhost:8080/"
        },
        "outputId": "92182ea6-f38a-4a81-df63-9cf6a57686f5"
      },
      "source": [
        "!pip install --upgrade git+https://github.com/terrierteam/pyterrier_colbert.git"
      ],
      "execution_count": 4,
      "outputs": [
        {
          "output_type": "stream",
          "text": [
            "Collecting git+https://github.com/terrierteam/pyterrier_colbert.git\n",
            "  Cloning https://github.com/terrierteam/pyterrier_colbert.git to /tmp/pip-req-build-leu2i9co\n",
            "  Running command git clone -q https://github.com/terrierteam/pyterrier_colbert.git /tmp/pip-req-build-leu2i9co\n",
            "Requirement already satisfied, skipping upgrade: python-terrier in /usr/local/lib/python3.7/dist-packages (from pyterrier-colbert==0.0.1) (0.4.0)\n",
            "Requirement already satisfied, skipping upgrade: pandas in /usr/local/lib/python3.7/dist-packages (from pyterrier-colbert==0.0.1) (1.1.5)\n",
            "Requirement already satisfied, skipping upgrade: ColBERT@ git+https://github.com/cmacdonald/ColBERT.git@v0.2#egg=ColBERT from git+https://github.com/cmacdonald/ColBERT.git@v0.2#egg=ColBERT in /usr/local/lib/python3.7/dist-packages (from pyterrier-colbert==0.0.1) (0.2.0)\n",
            "Requirement already satisfied, skipping upgrade: wget in /usr/local/lib/python3.7/dist-packages (from python-terrier->pyterrier-colbert==0.0.1) (3.2)\n",
            "Requirement already satisfied, skipping upgrade: jinja2 in /usr/local/lib/python3.7/dist-packages (from python-terrier->pyterrier-colbert==0.0.1) (2.11.3)\n",
            "Requirement already satisfied, skipping upgrade: pytrec-eval>=0.5 in /usr/local/lib/python3.7/dist-packages (from python-terrier->pyterrier-colbert==0.0.1) (0.5)\n",
            "Requirement already satisfied, skipping upgrade: matchpy in /usr/local/lib/python3.7/dist-packages (from python-terrier->pyterrier-colbert==0.0.1) (0.5.4)\n",
            "Requirement already satisfied, skipping upgrade: nptyping in /usr/local/lib/python3.7/dist-packages (from python-terrier->pyterrier-colbert==0.0.1) (1.4.0)\n",
            "Requirement already satisfied, skipping upgrade: sphinx-rtd-theme in /usr/local/lib/python3.7/dist-packages (from python-terrier->pyterrier-colbert==0.0.1) (0.5.1)\n",
            "Requirement already satisfied, skipping upgrade: chest in /usr/local/lib/python3.7/dist-packages (from python-terrier->pyterrier-colbert==0.0.1) (0.2.3)\n",
            "Requirement already satisfied, skipping upgrade: scipy in /usr/local/lib/python3.7/dist-packages (from python-terrier->pyterrier-colbert==0.0.1) (1.4.1)\n",
            "Requirement already satisfied, skipping upgrade: more-itertools in /usr/local/lib/python3.7/dist-packages (from python-terrier->pyterrier-colbert==0.0.1) (8.7.0)\n",
            "Requirement already satisfied, skipping upgrade: tqdm in /usr/local/lib/python3.7/dist-packages (from python-terrier->pyterrier-colbert==0.0.1) (4.41.1)\n",
            "Requirement already satisfied, skipping upgrade: tabulate in /usr/local/lib/python3.7/dist-packages (from python-terrier->pyterrier-colbert==0.0.1) (0.8.9)\n",
            "Requirement already satisfied, skipping upgrade: deprecation in /usr/local/lib/python3.7/dist-packages (from python-terrier->pyterrier-colbert==0.0.1) (2.1.0)\n",
            "Requirement already satisfied, skipping upgrade: numpy in /usr/local/lib/python3.7/dist-packages (from python-terrier->pyterrier-colbert==0.0.1) (1.19.5)\n",
            "Requirement already satisfied, skipping upgrade: ir-datasets>=0.2.0 in /usr/local/lib/python3.7/dist-packages (from python-terrier->pyterrier-colbert==0.0.1) (0.3.2)\n",
            "Requirement already satisfied, skipping upgrade: pyjnius~=1.3.0 in /usr/local/lib/python3.7/dist-packages (from python-terrier->pyterrier-colbert==0.0.1) (1.3.0)\n",
            "Requirement already satisfied, skipping upgrade: sklearn in /usr/local/lib/python3.7/dist-packages (from python-terrier->pyterrier-colbert==0.0.1) (0.0)\n",
            "Requirement already satisfied, skipping upgrade: myst-parser in /usr/local/lib/python3.7/dist-packages (from python-terrier->pyterrier-colbert==0.0.1) (0.13.5)\n",
            "Requirement already satisfied, skipping upgrade: requests in /usr/local/lib/python3.7/dist-packages (from python-terrier->pyterrier-colbert==0.0.1) (2.23.0)\n",
            "Requirement already satisfied, skipping upgrade: python-dateutil>=2.7.3 in /usr/local/lib/python3.7/dist-packages (from pandas->pyterrier-colbert==0.0.1) (2.8.1)\n",
            "Requirement already satisfied, skipping upgrade: pytz>=2017.2 in /usr/local/lib/python3.7/dist-packages (from pandas->pyterrier-colbert==0.0.1) (2018.9)\n",
            "Requirement already satisfied, skipping upgrade: torch in /usr/local/lib/python3.7/dist-packages (from ColBERT@ git+https://github.com/cmacdonald/ColBERT.git@v0.2#egg=ColBERT->pyterrier-colbert==0.0.1) (1.8.0+cu101)\n",
            "Requirement already satisfied, skipping upgrade: mlflow in /usr/local/lib/python3.7/dist-packages (from ColBERT@ git+https://github.com/cmacdonald/ColBERT.git@v0.2#egg=ColBERT->pyterrier-colbert==0.0.1) (1.14.1)\n",
            "Requirement already satisfied, skipping upgrade: tensorboard in /usr/local/lib/python3.7/dist-packages (from ColBERT@ git+https://github.com/cmacdonald/ColBERT.git@v0.2#egg=ColBERT->pyterrier-colbert==0.0.1) (2.4.1)\n",
            "Requirement already satisfied, skipping upgrade: transformers==3.0.2 in /usr/local/lib/python3.7/dist-packages (from ColBERT@ git+https://github.com/cmacdonald/ColBERT.git@v0.2#egg=ColBERT->pyterrier-colbert==0.0.1) (3.0.2)\n",
            "Requirement already satisfied, skipping upgrade: ujson in /usr/local/lib/python3.7/dist-packages (from ColBERT@ git+https://github.com/cmacdonald/ColBERT.git@v0.2#egg=ColBERT->pyterrier-colbert==0.0.1) (4.0.2)\n",
            "Requirement already satisfied, skipping upgrade: MarkupSafe>=0.23 in /usr/local/lib/python3.7/dist-packages (from jinja2->python-terrier->pyterrier-colbert==0.0.1) (1.1.1)\n",
            "Requirement already satisfied, skipping upgrade: multiset<3.0,>=2.0 in /usr/local/lib/python3.7/dist-packages (from matchpy->python-terrier->pyterrier-colbert==0.0.1) (2.1.1)\n",
            "Requirement already satisfied, skipping upgrade: typish>=1.7.0 in /usr/local/lib/python3.7/dist-packages (from nptyping->python-terrier->pyterrier-colbert==0.0.1) (1.9.1)\n",
            "Requirement already satisfied, skipping upgrade: sphinx in /usr/local/lib/python3.7/dist-packages (from sphinx-rtd-theme->python-terrier->pyterrier-colbert==0.0.1) (3.5.2)\n",
            "Requirement already satisfied, skipping upgrade: heapdict in /usr/local/lib/python3.7/dist-packages (from chest->python-terrier->pyterrier-colbert==0.0.1) (1.0.1)\n",
            "Requirement already satisfied, skipping upgrade: packaging in /usr/local/lib/python3.7/dist-packages (from deprecation->python-terrier->pyterrier-colbert==0.0.1) (20.9)\n",
            "Requirement already satisfied, skipping upgrade: beautifulsoup4>=4.4.1 in /usr/local/lib/python3.7/dist-packages (from ir-datasets>=0.2.0->python-terrier->pyterrier-colbert==0.0.1) (4.6.3)\n",
            "Requirement already satisfied, skipping upgrade: ijson>=3.1.3 in /usr/local/lib/python3.7/dist-packages (from ir-datasets>=0.2.0->python-terrier->pyterrier-colbert==0.0.1) (3.1.4)\n",
            "Requirement already satisfied, skipping upgrade: lxml>=4.5.2 in /usr/local/lib/python3.7/dist-packages (from ir-datasets>=0.2.0->python-terrier->pyterrier-colbert==0.0.1) (4.6.2)\n",
            "Requirement already satisfied, skipping upgrade: warc3-wet-clueweb09>=0.2.5 in /usr/local/lib/python3.7/dist-packages (from ir-datasets>=0.2.0->python-terrier->pyterrier-colbert==0.0.1) (0.2.5)\n",
            "Requirement already satisfied, skipping upgrade: warc3-wet>=0.2.3 in /usr/local/lib/python3.7/dist-packages (from ir-datasets>=0.2.0->python-terrier->pyterrier-colbert==0.0.1) (0.2.3)\n",
            "Requirement already satisfied, skipping upgrade: pyyaml>=5.3.1 in /usr/local/lib/python3.7/dist-packages (from ir-datasets>=0.2.0->python-terrier->pyterrier-colbert==0.0.1) (5.4.1)\n",
            "Requirement already satisfied, skipping upgrade: lz4>=3.1.1 in /usr/local/lib/python3.7/dist-packages (from ir-datasets>=0.2.0->python-terrier->pyterrier-colbert==0.0.1) (3.1.3)\n",
            "Requirement already satisfied, skipping upgrade: zlib-state>=0.1.3 in /usr/local/lib/python3.7/dist-packages (from ir-datasets>=0.2.0->python-terrier->pyterrier-colbert==0.0.1) (0.1.3)\n",
            "Requirement already satisfied, skipping upgrade: trec-car-tools>=2.5.4 in /usr/local/lib/python3.7/dist-packages (from ir-datasets>=0.2.0->python-terrier->pyterrier-colbert==0.0.1) (2.5.4)\n",
            "Requirement already satisfied, skipping upgrade: six>=1.7.0 in /usr/local/lib/python3.7/dist-packages (from pyjnius~=1.3.0->python-terrier->pyterrier-colbert==0.0.1) (1.15.0)\n",
            "Requirement already satisfied, skipping upgrade: cython in /usr/local/lib/python3.7/dist-packages (from pyjnius~=1.3.0->python-terrier->pyterrier-colbert==0.0.1) (0.29.22)\n",
            "Requirement already satisfied, skipping upgrade: scikit-learn in /usr/local/lib/python3.7/dist-packages (from sklearn->python-terrier->pyterrier-colbert==0.0.1) (0.22.2.post1)\n",
            "Requirement already satisfied, skipping upgrade: mdit-py-plugins~=0.2.5 in /usr/local/lib/python3.7/dist-packages (from myst-parser->python-terrier->pyterrier-colbert==0.0.1) (0.2.5)\n",
            "Requirement already satisfied, skipping upgrade: docutils>=0.15 in /usr/local/lib/python3.7/dist-packages (from myst-parser->python-terrier->pyterrier-colbert==0.0.1) (0.16)\n",
            "Requirement already satisfied, skipping upgrade: markdown-it-py~=0.6.2 in /usr/local/lib/python3.7/dist-packages (from myst-parser->python-terrier->pyterrier-colbert==0.0.1) (0.6.2)\n",
            "Requirement already satisfied, skipping upgrade: urllib3!=1.25.0,!=1.25.1,<1.26,>=1.21.1 in /usr/local/lib/python3.7/dist-packages (from requests->python-terrier->pyterrier-colbert==0.0.1) (1.24.3)\n",
            "Requirement already satisfied, skipping upgrade: idna<3,>=2.5 in /usr/local/lib/python3.7/dist-packages (from requests->python-terrier->pyterrier-colbert==0.0.1) (2.10)\n",
            "Requirement already satisfied, skipping upgrade: chardet<4,>=3.0.2 in /usr/local/lib/python3.7/dist-packages (from requests->python-terrier->pyterrier-colbert==0.0.1) (3.0.4)\n",
            "Requirement already satisfied, skipping upgrade: certifi>=2017.4.17 in /usr/local/lib/python3.7/dist-packages (from requests->python-terrier->pyterrier-colbert==0.0.1) (2020.12.5)\n",
            "Requirement already satisfied, skipping upgrade: typing-extensions in /usr/local/lib/python3.7/dist-packages (from torch->ColBERT@ git+https://github.com/cmacdonald/ColBERT.git@v0.2#egg=ColBERT->pyterrier-colbert==0.0.1) (3.7.4.3)\n",
            "Requirement already satisfied, skipping upgrade: sqlalchemy in /usr/local/lib/python3.7/dist-packages (from mlflow->ColBERT@ git+https://github.com/cmacdonald/ColBERT.git@v0.2#egg=ColBERT->pyterrier-colbert==0.0.1) (1.3.23)\n",
            "Requirement already satisfied, skipping upgrade: click>=7.0 in /usr/local/lib/python3.7/dist-packages (from mlflow->ColBERT@ git+https://github.com/cmacdonald/ColBERT.git@v0.2#egg=ColBERT->pyterrier-colbert==0.0.1) (7.1.2)\n",
            "Requirement already satisfied, skipping upgrade: cloudpickle in /usr/local/lib/python3.7/dist-packages (from mlflow->ColBERT@ git+https://github.com/cmacdonald/ColBERT.git@v0.2#egg=ColBERT->pyterrier-colbert==0.0.1) (1.3.0)\n",
            "Requirement already satisfied, skipping upgrade: prometheus-flask-exporter in /usr/local/lib/python3.7/dist-packages (from mlflow->ColBERT@ git+https://github.com/cmacdonald/ColBERT.git@v0.2#egg=ColBERT->pyterrier-colbert==0.0.1) (0.18.1)\n",
            "Requirement already satisfied, skipping upgrade: gunicorn; platform_system != \"Windows\" in /usr/local/lib/python3.7/dist-packages (from mlflow->ColBERT@ git+https://github.com/cmacdonald/ColBERT.git@v0.2#egg=ColBERT->pyterrier-colbert==0.0.1) (20.0.4)\n",
            "Requirement already satisfied, skipping upgrade: sqlparse>=0.3.1 in /usr/local/lib/python3.7/dist-packages (from mlflow->ColBERT@ git+https://github.com/cmacdonald/ColBERT.git@v0.2#egg=ColBERT->pyterrier-colbert==0.0.1) (0.4.1)\n",
            "Requirement already satisfied, skipping upgrade: querystring-parser in /usr/local/lib/python3.7/dist-packages (from mlflow->ColBERT@ git+https://github.com/cmacdonald/ColBERT.git@v0.2#egg=ColBERT->pyterrier-colbert==0.0.1) (1.2.4)\n",
            "Requirement already satisfied, skipping upgrade: entrypoints in /usr/local/lib/python3.7/dist-packages (from mlflow->ColBERT@ git+https://github.com/cmacdonald/ColBERT.git@v0.2#egg=ColBERT->pyterrier-colbert==0.0.1) (0.3)\n",
            "Requirement already satisfied, skipping upgrade: docker>=4.0.0 in /usr/local/lib/python3.7/dist-packages (from mlflow->ColBERT@ git+https://github.com/cmacdonald/ColBERT.git@v0.2#egg=ColBERT->pyterrier-colbert==0.0.1) (4.4.4)\n",
            "Requirement already satisfied, skipping upgrade: gitpython>=2.1.0 in /usr/local/lib/python3.7/dist-packages (from mlflow->ColBERT@ git+https://github.com/cmacdonald/ColBERT.git@v0.2#egg=ColBERT->pyterrier-colbert==0.0.1) (3.1.14)\n",
            "Requirement already satisfied, skipping upgrade: alembic<=1.4.1 in /usr/local/lib/python3.7/dist-packages (from mlflow->ColBERT@ git+https://github.com/cmacdonald/ColBERT.git@v0.2#egg=ColBERT->pyterrier-colbert==0.0.1) (1.4.1)\n",
            "Requirement already satisfied, skipping upgrade: databricks-cli>=0.8.7 in /usr/local/lib/python3.7/dist-packages (from mlflow->ColBERT@ git+https://github.com/cmacdonald/ColBERT.git@v0.2#egg=ColBERT->pyterrier-colbert==0.0.1) (0.14.2)\n",
            "Requirement already satisfied, skipping upgrade: protobuf>=3.6.0 in /usr/local/lib/python3.7/dist-packages (from mlflow->ColBERT@ git+https://github.com/cmacdonald/ColBERT.git@v0.2#egg=ColBERT->pyterrier-colbert==0.0.1) (3.12.4)\n",
            "Requirement already satisfied, skipping upgrade: Flask in /usr/local/lib/python3.7/dist-packages (from mlflow->ColBERT@ git+https://github.com/cmacdonald/ColBERT.git@v0.2#egg=ColBERT->pyterrier-colbert==0.0.1) (1.1.2)\n",
            "Requirement already satisfied, skipping upgrade: tensorboard-plugin-wit>=1.6.0 in /usr/local/lib/python3.7/dist-packages (from tensorboard->ColBERT@ git+https://github.com/cmacdonald/ColBERT.git@v0.2#egg=ColBERT->pyterrier-colbert==0.0.1) (1.8.0)\n",
            "Requirement already satisfied, skipping upgrade: absl-py>=0.4 in /usr/local/lib/python3.7/dist-packages (from tensorboard->ColBERT@ git+https://github.com/cmacdonald/ColBERT.git@v0.2#egg=ColBERT->pyterrier-colbert==0.0.1) (0.10.0)\n",
            "Requirement already satisfied, skipping upgrade: markdown>=2.6.8 in /usr/local/lib/python3.7/dist-packages (from tensorboard->ColBERT@ git+https://github.com/cmacdonald/ColBERT.git@v0.2#egg=ColBERT->pyterrier-colbert==0.0.1) (3.3.4)\n",
            "Requirement already satisfied, skipping upgrade: grpcio>=1.24.3 in /usr/local/lib/python3.7/dist-packages (from tensorboard->ColBERT@ git+https://github.com/cmacdonald/ColBERT.git@v0.2#egg=ColBERT->pyterrier-colbert==0.0.1) (1.32.0)\n",
            "Requirement already satisfied, skipping upgrade: google-auth-oauthlib<0.5,>=0.4.1 in /usr/local/lib/python3.7/dist-packages (from tensorboard->ColBERT@ git+https://github.com/cmacdonald/ColBERT.git@v0.2#egg=ColBERT->pyterrier-colbert==0.0.1) (0.4.3)\n",
            "Requirement already satisfied, skipping upgrade: setuptools>=41.0.0 in /usr/local/lib/python3.7/dist-packages (from tensorboard->ColBERT@ git+https://github.com/cmacdonald/ColBERT.git@v0.2#egg=ColBERT->pyterrier-colbert==0.0.1) (54.0.0)\n",
            "Requirement already satisfied, skipping upgrade: werkzeug>=0.11.15 in /usr/local/lib/python3.7/dist-packages (from tensorboard->ColBERT@ git+https://github.com/cmacdonald/ColBERT.git@v0.2#egg=ColBERT->pyterrier-colbert==0.0.1) (1.0.1)\n",
            "Requirement already satisfied, skipping upgrade: wheel>=0.26; python_version >= \"3\" in /usr/local/lib/python3.7/dist-packages (from tensorboard->ColBERT@ git+https://github.com/cmacdonald/ColBERT.git@v0.2#egg=ColBERT->pyterrier-colbert==0.0.1) (0.36.2)\n",
            "Requirement already satisfied, skipping upgrade: google-auth<2,>=1.6.3 in /usr/local/lib/python3.7/dist-packages (from tensorboard->ColBERT@ git+https://github.com/cmacdonald/ColBERT.git@v0.2#egg=ColBERT->pyterrier-colbert==0.0.1) (1.27.1)\n",
            "Requirement already satisfied, skipping upgrade: tokenizers==0.8.1.rc1 in /usr/local/lib/python3.7/dist-packages (from transformers==3.0.2->ColBERT@ git+https://github.com/cmacdonald/ColBERT.git@v0.2#egg=ColBERT->pyterrier-colbert==0.0.1) (0.8.1rc1)\n",
            "Requirement already satisfied, skipping upgrade: sentencepiece!=0.1.92 in /usr/local/lib/python3.7/dist-packages (from transformers==3.0.2->ColBERT@ git+https://github.com/cmacdonald/ColBERT.git@v0.2#egg=ColBERT->pyterrier-colbert==0.0.1) (0.1.95)\n",
            "Requirement already satisfied, skipping upgrade: filelock in /usr/local/lib/python3.7/dist-packages (from transformers==3.0.2->ColBERT@ git+https://github.com/cmacdonald/ColBERT.git@v0.2#egg=ColBERT->pyterrier-colbert==0.0.1) (3.0.12)\n",
            "Requirement already satisfied, skipping upgrade: regex!=2019.12.17 in /usr/local/lib/python3.7/dist-packages (from transformers==3.0.2->ColBERT@ git+https://github.com/cmacdonald/ColBERT.git@v0.2#egg=ColBERT->pyterrier-colbert==0.0.1) (2019.12.20)\n",
            "Requirement already satisfied, skipping upgrade: sacremoses in /usr/local/lib/python3.7/dist-packages (from transformers==3.0.2->ColBERT@ git+https://github.com/cmacdonald/ColBERT.git@v0.2#egg=ColBERT->pyterrier-colbert==0.0.1) (0.0.43)\n",
            "Requirement already satisfied, skipping upgrade: sphinxcontrib-jsmath in /usr/local/lib/python3.7/dist-packages (from sphinx->sphinx-rtd-theme->python-terrier->pyterrier-colbert==0.0.1) (1.0.1)\n",
            "Requirement already satisfied, skipping upgrade: imagesize in /usr/local/lib/python3.7/dist-packages (from sphinx->sphinx-rtd-theme->python-terrier->pyterrier-colbert==0.0.1) (1.2.0)\n",
            "Requirement already satisfied, skipping upgrade: Pygments>=2.0 in /usr/local/lib/python3.7/dist-packages (from sphinx->sphinx-rtd-theme->python-terrier->pyterrier-colbert==0.0.1) (2.6.1)\n",
            "Requirement already satisfied, skipping upgrade: alabaster<0.8,>=0.7 in /usr/local/lib/python3.7/dist-packages (from sphinx->sphinx-rtd-theme->python-terrier->pyterrier-colbert==0.0.1) (0.7.12)\n",
            "Requirement already satisfied, skipping upgrade: sphinxcontrib-devhelp in /usr/local/lib/python3.7/dist-packages (from sphinx->sphinx-rtd-theme->python-terrier->pyterrier-colbert==0.0.1) (1.0.2)\n",
            "Requirement already satisfied, skipping upgrade: babel>=1.3 in /usr/local/lib/python3.7/dist-packages (from sphinx->sphinx-rtd-theme->python-terrier->pyterrier-colbert==0.0.1) (2.9.0)\n",
            "Requirement already satisfied, skipping upgrade: sphinxcontrib-qthelp in /usr/local/lib/python3.7/dist-packages (from sphinx->sphinx-rtd-theme->python-terrier->pyterrier-colbert==0.0.1) (1.0.3)\n",
            "Requirement already satisfied, skipping upgrade: sphinxcontrib-serializinghtml in /usr/local/lib/python3.7/dist-packages (from sphinx->sphinx-rtd-theme->python-terrier->pyterrier-colbert==0.0.1) (1.1.4)\n",
            "Requirement already satisfied, skipping upgrade: sphinxcontrib-applehelp in /usr/local/lib/python3.7/dist-packages (from sphinx->sphinx-rtd-theme->python-terrier->pyterrier-colbert==0.0.1) (1.0.2)\n",
            "Requirement already satisfied, skipping upgrade: snowballstemmer>=1.1 in /usr/local/lib/python3.7/dist-packages (from sphinx->sphinx-rtd-theme->python-terrier->pyterrier-colbert==0.0.1) (2.1.0)\n",
            "Requirement already satisfied, skipping upgrade: sphinxcontrib-htmlhelp in /usr/local/lib/python3.7/dist-packages (from sphinx->sphinx-rtd-theme->python-terrier->pyterrier-colbert==0.0.1) (1.0.3)\n",
            "Requirement already satisfied, skipping upgrade: pyparsing>=2.0.2 in /usr/local/lib/python3.7/dist-packages (from packaging->deprecation->python-terrier->pyterrier-colbert==0.0.1) (2.4.7)\n",
            "Requirement already satisfied, skipping upgrade: cbor>=1.0.0 in /usr/local/lib/python3.7/dist-packages (from trec-car-tools>=2.5.4->ir-datasets>=0.2.0->python-terrier->pyterrier-colbert==0.0.1) (1.0.0)\n",
            "Requirement already satisfied, skipping upgrade: joblib>=0.11 in /usr/local/lib/python3.7/dist-packages (from scikit-learn->sklearn->python-terrier->pyterrier-colbert==0.0.1) (1.0.1)\n",
            "Requirement already satisfied, skipping upgrade: attrs<21,>=19 in /usr/local/lib/python3.7/dist-packages (from markdown-it-py~=0.6.2->myst-parser->python-terrier->pyterrier-colbert==0.0.1) (20.3.0)\n",
            "Requirement already satisfied, skipping upgrade: prometheus-client in /usr/local/lib/python3.7/dist-packages (from prometheus-flask-exporter->mlflow->ColBERT@ git+https://github.com/cmacdonald/ColBERT.git@v0.2#egg=ColBERT->pyterrier-colbert==0.0.1) (0.9.0)\n",
            "Requirement already satisfied, skipping upgrade: websocket-client>=0.32.0 in /usr/local/lib/python3.7/dist-packages (from docker>=4.0.0->mlflow->ColBERT@ git+https://github.com/cmacdonald/ColBERT.git@v0.2#egg=ColBERT->pyterrier-colbert==0.0.1) (0.58.0)\n",
            "Requirement already satisfied, skipping upgrade: gitdb<5,>=4.0.1 in /usr/local/lib/python3.7/dist-packages (from gitpython>=2.1.0->mlflow->ColBERT@ git+https://github.com/cmacdonald/ColBERT.git@v0.2#egg=ColBERT->pyterrier-colbert==0.0.1) (4.0.5)\n",
            "Requirement already satisfied, skipping upgrade: Mako in /usr/local/lib/python3.7/dist-packages (from alembic<=1.4.1->mlflow->ColBERT@ git+https://github.com/cmacdonald/ColBERT.git@v0.2#egg=ColBERT->pyterrier-colbert==0.0.1) (1.1.4)\n",
            "Requirement already satisfied, skipping upgrade: python-editor>=0.3 in /usr/local/lib/python3.7/dist-packages (from alembic<=1.4.1->mlflow->ColBERT@ git+https://github.com/cmacdonald/ColBERT.git@v0.2#egg=ColBERT->pyterrier-colbert==0.0.1) (1.0.4)\n",
            "Requirement already satisfied, skipping upgrade: itsdangerous>=0.24 in /usr/local/lib/python3.7/dist-packages (from Flask->mlflow->ColBERT@ git+https://github.com/cmacdonald/ColBERT.git@v0.2#egg=ColBERT->pyterrier-colbert==0.0.1) (1.1.0)\n",
            "Requirement already satisfied, skipping upgrade: importlib-metadata; python_version < \"3.8\" in /usr/local/lib/python3.7/dist-packages (from markdown>=2.6.8->tensorboard->ColBERT@ git+https://github.com/cmacdonald/ColBERT.git@v0.2#egg=ColBERT->pyterrier-colbert==0.0.1) (3.7.0)\n",
            "Requirement already satisfied, skipping upgrade: requests-oauthlib>=0.7.0 in /usr/local/lib/python3.7/dist-packages (from google-auth-oauthlib<0.5,>=0.4.1->tensorboard->ColBERT@ git+https://github.com/cmacdonald/ColBERT.git@v0.2#egg=ColBERT->pyterrier-colbert==0.0.1) (1.3.0)\n",
            "Requirement already satisfied, skipping upgrade: cachetools<5.0,>=2.0.0 in /usr/local/lib/python3.7/dist-packages (from google-auth<2,>=1.6.3->tensorboard->ColBERT@ git+https://github.com/cmacdonald/ColBERT.git@v0.2#egg=ColBERT->pyterrier-colbert==0.0.1) (4.2.1)\n",
            "Requirement already satisfied, skipping upgrade: rsa<5,>=3.1.4; python_version >= \"3.6\" in /usr/local/lib/python3.7/dist-packages (from google-auth<2,>=1.6.3->tensorboard->ColBERT@ git+https://github.com/cmacdonald/ColBERT.git@v0.2#egg=ColBERT->pyterrier-colbert==0.0.1) (4.7.2)\n",
            "Requirement already satisfied, skipping upgrade: pyasn1-modules>=0.2.1 in /usr/local/lib/python3.7/dist-packages (from google-auth<2,>=1.6.3->tensorboard->ColBERT@ git+https://github.com/cmacdonald/ColBERT.git@v0.2#egg=ColBERT->pyterrier-colbert==0.0.1) (0.2.8)\n",
            "Requirement already satisfied, skipping upgrade: smmap<4,>=3.0.1 in /usr/local/lib/python3.7/dist-packages (from gitdb<5,>=4.0.1->gitpython>=2.1.0->mlflow->ColBERT@ git+https://github.com/cmacdonald/ColBERT.git@v0.2#egg=ColBERT->pyterrier-colbert==0.0.1) (3.0.5)\n",
            "Requirement already satisfied, skipping upgrade: zipp>=0.5 in /usr/local/lib/python3.7/dist-packages (from importlib-metadata; python_version < \"3.8\"->markdown>=2.6.8->tensorboard->ColBERT@ git+https://github.com/cmacdonald/ColBERT.git@v0.2#egg=ColBERT->pyterrier-colbert==0.0.1) (3.4.1)\n",
            "Requirement already satisfied, skipping upgrade: oauthlib>=3.0.0 in /usr/local/lib/python3.7/dist-packages (from requests-oauthlib>=0.7.0->google-auth-oauthlib<0.5,>=0.4.1->tensorboard->ColBERT@ git+https://github.com/cmacdonald/ColBERT.git@v0.2#egg=ColBERT->pyterrier-colbert==0.0.1) (3.1.0)\n",
            "Requirement already satisfied, skipping upgrade: pyasn1>=0.1.3 in /usr/local/lib/python3.7/dist-packages (from rsa<5,>=3.1.4; python_version >= \"3.6\"->google-auth<2,>=1.6.3->tensorboard->ColBERT@ git+https://github.com/cmacdonald/ColBERT.git@v0.2#egg=ColBERT->pyterrier-colbert==0.0.1) (0.4.8)\n",
            "Building wheels for collected packages: pyterrier-colbert\n",
            "  Building wheel for pyterrier-colbert (setup.py) ... \u001b[?25l\u001b[?25hdone\n",
            "  Created wheel for pyterrier-colbert: filename=pyterrier_colbert-0.0.1-cp37-none-any.whl size=11942 sha256=b37992b59cc28b51b83bab8ff2e848132e5eb1c4bab4230acc3adeadc72846c0\n",
            "  Stored in directory: /tmp/pip-ephem-wheel-cache-0itqb27i/wheels/7d/23/87/59bcb24958d35319315084fe0b193e9b0c15a1d384199dbaf3\n",
            "Successfully built pyterrier-colbert\n",
            "Installing collected packages: pyterrier-colbert\n",
            "  Found existing installation: pyterrier-colbert 0.0.1\n",
            "    Uninstalling pyterrier-colbert-0.0.1:\n",
            "      Successfully uninstalled pyterrier-colbert-0.0.1\n",
            "Successfully installed pyterrier-colbert-0.0.1\n"
          ],
          "name": "stdout"
        }
      ]
    },
    {
      "cell_type": "markdown",
      "metadata": {
        "id": "ssDoJmlxQJzX"
      },
      "source": [
        "This installs [FAISS](https://github.com/facebookresearch/faiss), a library for efficient similarity search and clustering of dense vectors."
      ]
    },
    {
      "cell_type": "code",
      "metadata": {
        "id": "WP-LDkbx9iRv"
      },
      "source": [
        "import sys\n",
        "\n",
        "COLAB='google.colab' in sys.modules\n",
        "\n",
        "try:\n",
        "  import faiss\n",
        "  faiss.get_num_gpus()\n",
        "except:\n",
        "  if COLAB:\n",
        "    print('Installing faiss-gpu from pip ')\n",
        "    !pip install faiss-gpu==1.6.3\n",
        "  else:\n",
        "    print('Installing faiss-gpu via Conda')\n",
        "    !conda install -c pytorch faiss-gpu\n",
        "\n",
        "import faiss\n",
        "assert faiss.get_num_gpus() > 0"
      ],
      "execution_count": 5,
      "outputs": []
    },
    {
      "cell_type": "markdown",
      "metadata": {
        "id": "wih-SWCAP8tL"
      },
      "source": [
        "# Setup\n",
        "\n",
        "Lets get [PyTerrier](https://github.com/terrier-org/pyterrier) started. This will download the latest version of the [Terrier](http://terrier.org) IR platform."
      ]
    },
    {
      "cell_type": "code",
      "metadata": {
        "id": "IAyLRo62QCbU",
        "colab": {
          "base_uri": "https://localhost:8080/"
        },
        "outputId": "882079a5-654c-4a1b-d5b9-ec5b1df482c2"
      },
      "source": [
        "import pyterrier as pt\n",
        "pt.init()"
      ],
      "execution_count": 6,
      "outputs": [
        {
          "output_type": "stream",
          "text": [
            "/usr/local/lib/python3.7/dist-packages/tqdm/std.py:658: FutureWarning: The Panel class is removed from pandas. Accessing it from the top-level namespace will also be removed in the next version\n",
            "  from pandas import Panel\n"
          ],
          "name": "stderr"
        },
        {
          "output_type": "stream",
          "text": [
            "PyTerrier 0.4.0 has loaded Terrier 5.4 (built by craigm on 2021-01-16 14:17)\n"
          ],
          "name": "stdout"
        }
      ]
    },
    {
      "cell_type": "markdown",
      "metadata": {
        "id": "tLADCxA2S4gu"
      },
      "source": [
        "This downloads the model checkpoint generated by Craig Macdonald. Download time can vary, on average it requires 11-12 minutes."
      ]
    },
    {
      "cell_type": "code",
      "metadata": {
        "id": "nqwqSSvqS4LJ"
      },
      "source": [
        "import os\n",
        "if not os.path.exists(\"colbert.dnn.zip\"):\n",
        "  !wget \"http://www.dcs.gla.ac.uk/~craigm/colbert.dnn.zip\"\n",
        "  !unzip colbert.dnn.zip"
      ],
      "execution_count": 7,
      "outputs": []
    },
    {
      "cell_type": "markdown",
      "metadata": {
        "id": "mCImH1CJTzG0"
      },
      "source": [
        "# Indexing\n",
        "\n",
        "This indexes the [Vaswani dataset](http://ir.dcs.gla.ac.uk/resources/test_collections/npl/). Indexing takes about 3 minutes using a Colab GPU."
      ]
    },
    {
      "cell_type": "code",
      "metadata": {
        "colab": {
          "base_uri": "https://localhost:8080/"
        },
        "id": "bgRH9z0hT8_Z",
        "outputId": "fbff64ab-775d-4cce-abb4-84e6e9521b58"
      },
      "source": [
        "!rm -rf /content/colbertindex\n",
        "\n",
        "import pyterrier_colbert.indexing\n",
        "\n",
        "indexer = pyterrier_colbert.indexing.ColBERTIndexer(\"colbert.dnn\", \"/content\", \"colbertindex\", chunksize=3)\n",
        "indexer.index(pt.get_dataset(\"irds:vaswani\").get_corpus_iter())"
      ],
      "execution_count": null,
      "outputs": [
        {
          "output_type": "stream",
          "text": [
            "[Mar 15, 15:50:54] [0] \t\t #> Local args.bsize = 128\n",
            "[Mar 15, 15:50:54] [0] \t\t #> args.index_root = /content\n",
            "[Mar 15, 15:50:54] [0] \t\t #> self.possible_subset_sizes = [69905]\n"
          ],
          "name": "stdout"
        },
        {
          "output_type": "stream",
          "text": [
            "Some weights of the model checkpoint at bert-base-uncased were not used when initializing ColBERT: ['cls.predictions.bias', 'cls.predictions.transform.dense.weight', 'cls.predictions.transform.dense.bias', 'cls.predictions.decoder.weight', 'cls.seq_relationship.weight', 'cls.seq_relationship.bias', 'cls.predictions.transform.LayerNorm.weight', 'cls.predictions.transform.LayerNorm.bias']\n",
            "- This IS expected if you are initializing ColBERT from the checkpoint of a model trained on another task or with another architecture (e.g. initializing a BertForSequenceClassification model from a BertForPretraining model).\n",
            "- This IS NOT expected if you are initializing ColBERT from the checkpoint of a model that you expect to be exactly identical (initializing a BertForSequenceClassification model from a BertForSequenceClassification model).\n",
            "Some weights of ColBERT were not initialized from the model checkpoint at bert-base-uncased and are newly initialized: ['linear.weight']\n",
            "You should probably TRAIN this model on a down-stream task to be able to use it for predictions and inference.\n"
          ],
          "name": "stderr"
        },
        {
          "output_type": "stream",
          "text": [
            "[Mar 15, 15:51:20] #> Loading model checkpoint.\n",
            "[Mar 15, 15:51:20] #> Loading checkpoint colbert.dnn\n",
            "[Mar 15, 15:51:56] #> checkpoint['epoch'] = 0\n",
            "[Mar 15, 15:51:56] #> checkpoint['batch'] = 44500\n",
            "\n",
            "\n",
            "\n",
            "\n",
            "[Mar 15, 15:51:57] #> Note: Output directory /content already exists\n",
            "\n",
            "\n",
            "\n",
            "\n",
            "[Mar 15, 15:51:57] #> Creating directory /content/colbertindex \n",
            "\n",
            "\n"
          ],
          "name": "stdout"
        },
        {
          "output_type": "stream",
          "text": [
            "vaswani documents: 100%|██████████| 11429/11429 [00:00<00:00, 155318.92it/s]"
          ],
          "name": "stderr"
        },
        {
          "output_type": "stream",
          "text": [
            "docFromText on 11429 documents\n"
          ],
          "name": "stdout"
        },
        {
          "output_type": "stream",
          "text": [
            "\n"
          ],
          "name": "stderr"
        },
        {
          "output_type": "stream",
          "text": [
            "tokens doc 0: 180\n",
            "total tokens 2057220\n",
            "lenD = 11429 \n",
            "11429/content/colbertindex/0.pt\n",
            "\n",
            "[Mar 15, 15:54:17] [0] \t\t #> Completed batch #0 (starting at passage #0) \t\tPassages/min: 4.9k (overall),  4.9k (this encoding),  1042.1M (this saving)\n",
            "[Mar 15, 15:54:17] [0] \t\t [NOTE] Done with local share.\n",
            "[Mar 15, 15:54:17] [0] \t\t #> Joining saver thread.\n",
            "[Mar 15, 15:54:18] [0] \t\t #> Saved batch #0 to /content/colbertindex/0.pt \t\t Saving Throughput = 2.2M passages per minute.\n",
            "\n",
            "#> num_embeddings = 581496\n",
            "[Mar 15, 15:54:18] #> Starting..\n",
            "[Mar 15, 15:54:18] #> Processing slice #1 of 1 (range 0..1).\n",
            "[Mar 15, 15:54:18] #> Will write to /content/colbertindex/ivfpq.100.faiss.\n",
            "[Mar 15, 15:54:18] #> Loading /content/colbertindex/0.sample ...\n",
            "#> Sample has shape (29074, 128)\n",
            "[Mar 15, 15:54:18] Preparing resources for 1 GPUs.\n",
            "[Mar 15, 15:54:18] #> Training with the vectors...\n",
            "[Mar 15, 15:54:18] #> Training now (using 1 GPUs)...\n",
            "2.825673818588257\n"
          ],
          "name": "stdout"
        }
      ]
    },
    {
      "cell_type": "markdown",
      "metadata": {
        "id": "KX_a_6M1U5pv"
      },
      "source": [
        "The indexing procedure generates the document embeddings index and a [FAISS](https://github.com/facebookresearch/faiss) index, together with some additional files."
      ]
    },
    {
      "cell_type": "code",
      "metadata": {
        "id": "cz39leTbUzRO"
      },
      "source": [
        "!ls -ltrh /content/colbertindex"
      ],
      "execution_count": null,
      "outputs": []
    },
    {
      "cell_type": "markdown",
      "metadata": {
        "id": "QZW9HGAcV40i"
      },
      "source": [
        "# Retrieval\n",
        "\n",
        "Now that indexing has completed, we can load in the index and the checkpoint model (which we will need for encoding queries). Index loading can take some times, as the [FAISS](https://github.com/facebookresearch/faiss) index needs to be loaded in main memory, as well as the document embeddings index.\n",
        "\n",
        "Since we indexed a collection from scratch and the data structures are already loaded in main memory, we reuse the data structures for retrieval.\n",
        "\n",
        "In the case the indexing was done offline, the following ColBERT factory can be used:\n",
        "\n",
        "```python\n",
        "pyterrier_colbert_factory = pyterrier_colbert.ranking.ColBERTFactory(\"colbert.dnn\", \"/content\", \"colbertindex\")\n",
        "```\n"
      ]
    },
    {
      "cell_type": "code",
      "metadata": {
        "id": "BxxWlc6gVosw"
      },
      "source": [
        "pyterrier_colbert_factory = indexer.ranking_factory()\n",
        "\n",
        "colbert_e2e = pyterrier_colbert_factory.end_to_end()"
      ],
      "execution_count": null,
      "outputs": []
    },
    {
      "cell_type": "markdown",
      "metadata": {
        "id": "j_IJE0fqWSBd"
      },
      "source": [
        "Here we can ask [PyTerrier](https://github.com/terrier-org/pyterrier) to search the [ColBERT](https://github.com/stanford-futuredata/ColBERT/tree/v0.2) index for `'chemical reactions'`, returning the top 10 scored documents."
      ]
    },
    {
      "cell_type": "code",
      "metadata": {
        "id": "AaamDhjsmHde"
      },
      "source": [
        "(colbert_e2e % 10).search(\"chemical reactions\")"
      ],
      "execution_count": null,
      "outputs": []
    },
    {
      "cell_type": "markdown",
      "metadata": {
        "id": "sl5qfF77W1E5"
      },
      "source": [
        "# Run an experiment\n",
        "\n",
        "Lets prepare an experiment. Firstly, lets create in a BM25 baseline transformer."
      ]
    },
    {
      "cell_type": "code",
      "metadata": {
        "id": "T3I63EvwW0vc"
      },
      "source": [
        "dataset = pt.get_dataset(\"vaswani\")\n",
        "\n",
        "bm25 = pt.BatchRetrieve(dataset.get_index(), wmodel=\"BM25\")"
      ],
      "execution_count": null,
      "outputs": []
    },
    {
      "cell_type": "markdown",
      "metadata": {
        "id": "V7u66dWqpacv"
      },
      "source": [
        "Finally, lets evaluate our performance. We also load in an BM25 index for the same corpus for comparison reasons. We limit our experiments to just 50 queries."
      ]
    },
    {
      "cell_type": "code",
      "metadata": {
        "colab": {
          "base_uri": "https://localhost:8080/",
          "height": 1000
        },
        "id": "P0ZmPCUWf02Y",
        "outputId": "bced5dfb-12df-4a2c-f676-445ee1b86d09"
      },
      "source": [
        "pt.Experiment(\n",
        "    [bm25, colbert_e2e],\n",
        "    dataset.get_topics().head(50),\n",
        "    dataset.get_qrels(),\n",
        "    eval_metrics=[\"map\", \"recip_rank\", \"mrt\"],\n",
        "    names = [\"BM25\", \"ColBERT\"]\n",
        ")"
      ],
      "execution_count": 32,
      "outputs": [
        {
          "output_type": "stream",
          "text": [
            "lookups: 100%|██████████| 1000/1000 [00:00<00:00, 27377.07d/s]\n",
            "lookups: 100%|██████████| 1000/1000 [00:00<00:00, 28739.92d/s]\n",
            "lookups: 100%|██████████| 1000/1000 [00:00<00:00, 28735.39d/s]\n",
            "lookups: 100%|██████████| 1000/1000 [00:00<00:00, 27756.99d/s]\n",
            "lookups: 100%|██████████| 1000/1000 [00:00<00:00, 27629.37d/s]\n",
            "lookups: 100%|██████████| 1000/1000 [00:00<00:00, 29116.60d/s]\n",
            "lookups: 100%|██████████| 64/64 [00:00<00:00, 17404.88d/s]\n",
            "lookups: 100%|██████████| 1000/1000 [00:00<00:00, 29091.76d/s]\n",
            "lookups: 100%|██████████| 1000/1000 [00:00<00:00, 22719.69d/s]\n",
            "lookups: 100%|██████████| 1000/1000 [00:00<00:00, 19248.76d/s]\n",
            "lookups: 100%|██████████| 1000/1000 [00:00<00:00, 21108.83d/s]\n",
            "lookups: 100%|██████████| 1000/1000 [00:00<00:00, 24005.17d/s]\n",
            "lookups: 100%|██████████| 1000/1000 [00:00<00:00, 28143.08d/s]\n",
            "lookups: 100%|██████████| 796/796 [00:00<00:00, 29006.91d/s]\n",
            "lookups: 100%|██████████| 1000/1000 [00:00<00:00, 29644.66d/s]\n",
            "lookups: 100%|██████████| 1000/1000 [00:00<00:00, 29071.79d/s]\n",
            "lookups: 100%|██████████| 1000/1000 [00:00<00:00, 23655.34d/s]\n",
            "lookups: 100%|██████████| 1000/1000 [00:00<00:00, 29657.65d/s]\n",
            "lookups: 100%|██████████| 16/16 [00:00<00:00, 7926.87d/s]\n",
            "lookups: 100%|██████████| 1000/1000 [00:00<00:00, 18831.93d/s]\n",
            "lookups: 100%|██████████| 1000/1000 [00:00<00:00, 29556.29d/s]\n",
            "lookups: 100%|██████████| 1000/1000 [00:00<00:00, 28348.70d/s]\n",
            "lookups: 100%|██████████| 1000/1000 [00:00<00:00, 27921.45d/s]\n",
            "lookups: 100%|██████████| 1000/1000 [00:00<00:00, 25483.66d/s]\n",
            "lookups: 100%|██████████| 574/574 [00:00<00:00, 25386.52d/s]\n",
            "lookups: 100%|██████████| 1000/1000 [00:00<00:00, 22533.06d/s]\n",
            "lookups: 100%|██████████| 1000/1000 [00:00<00:00, 20429.43d/s]\n",
            "lookups: 100%|██████████| 1000/1000 [00:00<00:00, 29450.45d/s]\n",
            "lookups: 100%|██████████| 1000/1000 [00:00<00:00, 25782.23d/s]\n",
            "lookups: 100%|██████████| 1000/1000 [00:00<00:00, 29633.14d/s]\n",
            "lookups: 100%|██████████| 91/91 [00:00<00:00, 19775.23d/s]\n",
            "lookups: 100%|██████████| 1000/1000 [00:00<00:00, 28677.83d/s]\n",
            "lookups: 100%|██████████| 1000/1000 [00:00<00:00, 20446.85d/s]\n",
            "lookups: 100%|██████████| 1000/1000 [00:00<00:00, 28428.06d/s]\n",
            "lookups: 100%|██████████| 1000/1000 [00:00<00:00, 26148.21d/s]\n",
            "lookups: 100%|██████████| 1000/1000 [00:00<00:00, 28700.78d/s]\n",
            "lookups: 100%|██████████| 1000/1000 [00:00<00:00, 27114.43d/s]\n",
            "lookups: 100%|██████████| 647/647 [00:00<00:00, 29233.79d/s]\n",
            "lookups: 100%|██████████| 1000/1000 [00:00<00:00, 23131.16d/s]\n",
            "lookups: 100%|██████████| 1000/1000 [00:00<00:00, 28614.05d/s]\n",
            "lookups: 100%|██████████| 1000/1000 [00:00<00:00, 28255.70d/s]\n",
            "lookups: 100%|██████████| 1000/1000 [00:00<00:00, 28556.38d/s]\n",
            "lookups: 100%|██████████| 965/965 [00:00<00:00, 26942.94d/s]\n",
            "lookups: 100%|██████████| 1000/1000 [00:00<00:00, 29976.02d/s]\n",
            "lookups: 100%|██████████| 1000/1000 [00:00<00:00, 29994.02d/s]\n",
            "lookups: 100%|██████████| 1000/1000 [00:00<00:00, 28160.28d/s]\n",
            "lookups: 100%|██████████| 1000/1000 [00:00<00:00, 28140.06d/s]\n",
            "lookups: 100%|██████████| 1000/1000 [00:00<00:00, 25998.45d/s]\n",
            "lookups: 100%|██████████| 1000/1000 [00:00<00:00, 22334.96d/s]\n",
            "lookups: 100%|██████████| 503/503 [00:00<00:00, 28989.83d/s]\n",
            "lookups: 100%|██████████| 1000/1000 [00:00<00:00, 26093.55d/s]\n",
            "lookups: 100%|██████████| 1000/1000 [00:00<00:00, 20053.76d/s]\n",
            "lookups: 100%|██████████| 1000/1000 [00:00<00:00, 21013.76d/s]\n",
            "lookups: 100%|██████████| 1000/1000 [00:00<00:00, 20041.21d/s]\n",
            "lookups: 100%|██████████| 1000/1000 [00:00<00:00, 20893.90d/s]\n",
            "lookups: 100%|██████████| 1000/1000 [00:00<00:00, 19180.98d/s]\n",
            "lookups: 100%|██████████| 56/56 [00:00<00:00, 8713.82d/s]\n",
            "lookups: 100%|██████████| 1000/1000 [00:00<00:00, 27712.80d/s]\n",
            "lookups: 100%|██████████| 1000/1000 [00:00<00:00, 29280.43d/s]\n",
            "lookups: 100%|██████████| 1000/1000 [00:00<00:00, 22416.61d/s]\n",
            "lookups: 100%|██████████| 1000/1000 [00:00<00:00, 28249.04d/s]\n",
            "lookups: 100%|██████████| 931/931 [00:00<00:00, 28200.72d/s]\n",
            "lookups: 100%|██████████| 1000/1000 [00:00<00:00, 29390.81d/s]\n",
            "lookups: 100%|██████████| 1000/1000 [00:00<00:00, 27273.99d/s]\n",
            "lookups: 100%|██████████| 1000/1000 [00:00<00:00, 29020.30d/s]\n",
            "lookups: 100%|██████████| 1000/1000 [00:00<00:00, 24641.79d/s]\n",
            "lookups: 100%|██████████| 1000/1000 [00:00<00:00, 29769.64d/s]\n",
            "lookups: 100%|██████████| 285/285 [00:00<00:00, 26356.01d/s]\n",
            "lookups: 100%|██████████| 1000/1000 [00:00<00:00, 29734.18d/s]\n",
            "lookups: 100%|██████████| 1000/1000 [00:00<00:00, 21384.34d/s]\n",
            "lookups: 100%|██████████| 1000/1000 [00:00<00:00, 27545.00d/s]\n",
            "lookups: 100%|██████████| 1000/1000 [00:00<00:00, 24394.99d/s]\n",
            "lookups: 100%|██████████| 1000/1000 [00:00<00:00, 19635.52d/s]\n",
            "lookups: 100%|██████████| 688/688 [00:00<00:00, 28971.54d/s]\n",
            "lookups: 100%|██████████| 1000/1000 [00:00<00:00, 26917.10d/s]\n",
            "lookups: 100%|██████████| 1000/1000 [00:00<00:00, 20826.46d/s]\n",
            "lookups: 100%|██████████| 1000/1000 [00:00<00:00, 28482.30d/s]\n",
            "lookups: 100%|██████████| 1000/1000 [00:00<00:00, 28231.54d/s]\n",
            "lookups: 100%|██████████| 1000/1000 [00:00<00:00, 29067.97d/s]\n",
            "lookups: 100%|██████████| 293/293 [00:00<00:00, 21410.32d/s]\n",
            "lookups: 100%|██████████| 1000/1000 [00:00<00:00, 28935.21d/s]\n",
            "lookups: 100%|██████████| 1000/1000 [00:00<00:00, 20933.32d/s]\n",
            "lookups: 100%|██████████| 1000/1000 [00:00<00:00, 27183.14d/s]\n",
            "lookups: 100%|██████████| 1000/1000 [00:00<00:00, 24134.46d/s]\n",
            "lookups: 100%|██████████| 405/405 [00:00<00:00, 26700.20d/s]\n",
            "lookups: 100%|██████████| 1000/1000 [00:00<00:00, 21040.43d/s]\n",
            "lookups: 100%|██████████| 1000/1000 [00:00<00:00, 28942.60d/s]\n",
            "lookups: 100%|██████████| 1000/1000 [00:00<00:00, 28345.45d/s]\n",
            "lookups: 100%|██████████| 1000/1000 [00:00<00:00, 28943.00d/s]\n",
            "lookups: 100%|██████████| 1000/1000 [00:00<00:00, 27570.53d/s]\n",
            "lookups: 100%|██████████| 229/229 [00:00<00:00, 25678.27d/s]\n",
            "lookups: 100%|██████████| 1000/1000 [00:00<00:00, 24270.77d/s]\n",
            "lookups: 100%|██████████| 1000/1000 [00:00<00:00, 28349.66d/s]\n",
            "lookups: 100%|██████████| 1000/1000 [00:00<00:00, 21758.98d/s]\n",
            "lookups: 100%|██████████| 1000/1000 [00:00<00:00, 24006.69d/s]\n",
            "lookups: 100%|██████████| 1000/1000 [00:00<00:00, 24563.29d/s]\n",
            "lookups: 100%|██████████| 313/313 [00:00<00:00, 25927.58d/s]\n",
            "lookups: 100%|██████████| 1000/1000 [00:00<00:00, 24364.52d/s]\n",
            "lookups: 100%|██████████| 1000/1000 [00:00<00:00, 27959.04d/s]\n",
            "lookups: 100%|██████████| 1000/1000 [00:00<00:00, 22800.21d/s]\n",
            "lookups: 100%|██████████| 1000/1000 [00:00<00:00, 28340.85d/s]\n",
            "lookups: 100%|██████████| 288/288 [00:00<00:00, 24700.63d/s]\n",
            "lookups: 100%|██████████| 1000/1000 [00:00<00:00, 25547.61d/s]\n",
            "lookups: 100%|██████████| 1000/1000 [00:00<00:00, 29008.06d/s]\n",
            "lookups: 100%|██████████| 1000/1000 [00:00<00:00, 27598.64d/s]\n",
            "lookups: 100%|██████████| 1000/1000 [00:00<00:00, 28269.60d/s]\n",
            "lookups: 100%|██████████| 1000/1000 [00:00<00:00, 25064.56d/s]\n",
            "lookups: 100%|██████████| 484/484 [00:00<00:00, 29633.07d/s]\n",
            "lookups: 100%|██████████| 1000/1000 [00:00<00:00, 25864.58d/s]\n",
            "lookups: 100%|██████████| 1000/1000 [00:00<00:00, 24031.31d/s]\n",
            "lookups: 100%|██████████| 1000/1000 [00:00<00:00, 27634.83d/s]\n",
            "lookups: 100%|██████████| 1000/1000 [00:00<00:00, 29086.51d/s]\n",
            "lookups: 100%|██████████| 57/57 [00:00<00:00, 8485.97d/s]\n",
            "lookups: 100%|██████████| 1000/1000 [00:00<00:00, 26449.14d/s]\n",
            "lookups: 100%|██████████| 1000/1000 [00:00<00:00, 25281.51d/s]\n",
            "lookups: 100%|██████████| 1000/1000 [00:00<00:00, 27279.14d/s]\n",
            "lookups: 100%|██████████| 1000/1000 [00:00<00:00, 28275.51d/s]\n",
            "lookups: 100%|██████████| 1000/1000 [00:00<00:00, 29284.72d/s]\n",
            "lookups: 100%|██████████| 1000/1000 [00:00<00:00, 29274.50d/s]\n",
            "lookups: 100%|██████████| 22/22 [00:00<00:00, 11025.77d/s]\n",
            "lookups: 100%|██████████| 1000/1000 [00:00<00:00, 25173.33d/s]\n",
            "lookups: 100%|██████████| 1000/1000 [00:00<00:00, 23666.41d/s]\n",
            "lookups: 100%|██████████| 1000/1000 [00:00<00:00, 22216.89d/s]\n",
            "lookups: 100%|██████████| 1000/1000 [00:00<00:00, 28220.34d/s]\n",
            "lookups: 100%|██████████| 1000/1000 [00:00<00:00, 26144.63d/s]\n",
            "lookups: 100%|██████████| 1000/1000 [00:00<00:00, 29045.22d/s]\n",
            "lookups: 100%|██████████| 113/113 [00:00<00:00, 20619.35d/s]\n",
            "lookups: 100%|██████████| 1000/1000 [00:00<00:00, 26504.12d/s]\n",
            "lookups: 100%|██████████| 1000/1000 [00:00<00:00, 19805.94d/s]\n",
            "lookups: 100%|██████████| 1000/1000 [00:00<00:00, 27836.02d/s]\n",
            "lookups: 100%|██████████| 1000/1000 [00:00<00:00, 23946.93d/s]\n",
            "lookups: 100%|██████████| 289/289 [00:00<00:00, 25479.87d/s]\n",
            "lookups: 100%|██████████| 1000/1000 [00:00<00:00, 28111.77d/s]\n",
            "lookups: 100%|██████████| 1000/1000 [00:00<00:00, 28999.03d/s]\n",
            "lookups: 100%|██████████| 1000/1000 [00:00<00:00, 20054.72d/s]\n",
            "lookups: 100%|██████████| 1000/1000 [00:00<00:00, 26712.42d/s]\n",
            "lookups: 100%|██████████| 1000/1000 [00:00<00:00, 25025.08d/s]\n",
            "lookups: 100%|██████████| 1000/1000 [00:00<00:00, 24888.02d/s]\n",
            "lookups: 100%|██████████| 60/60 [00:00<00:00, 13206.94d/s]\n",
            "lookups: 100%|██████████| 1000/1000 [00:00<00:00, 26544.72d/s]\n",
            "lookups: 100%|██████████| 1000/1000 [00:00<00:00, 28256.65d/s]\n",
            "lookups: 100%|██████████| 1000/1000 [00:00<00:00, 20973.72d/s]\n",
            "lookups: 100%|██████████| 1000/1000 [00:00<00:00, 26976.49d/s]\n",
            "lookups: 100%|██████████| 1000/1000 [00:00<00:00, 25347.21d/s]\n",
            "lookups: 100%|██████████| 950/950 [00:00<00:00, 28867.56d/s]\n",
            "lookups: 100%|██████████| 1000/1000 [00:00<00:00, 28873.66d/s]\n",
            "lookups: 100%|██████████| 1000/1000 [00:00<00:00, 28102.73d/s]\n",
            "lookups: 100%|██████████| 1000/1000 [00:00<00:00, 28932.42d/s]\n",
            "lookups: 100%|██████████| 1000/1000 [00:00<00:00, 28314.26d/s]\n",
            "lookups: 100%|██████████| 1000/1000 [00:00<00:00, 28428.64d/s]\n",
            "lookups: 100%|██████████| 1000/1000 [00:00<00:00, 26188.21d/s]\n",
            "lookups: 100%|██████████| 249/249 [00:00<00:00, 15982.34d/s]\n",
            "lookups: 100%|██████████| 1000/1000 [00:00<00:00, 20144.88d/s]\n",
            "lookups: 100%|██████████| 1000/1000 [00:00<00:00, 21617.45d/s]\n",
            "lookups: 100%|██████████| 1000/1000 [00:00<00:00, 28071.32d/s]\n",
            "lookups: 100%|██████████| 1000/1000 [00:00<00:00, 27577.05d/s]\n",
            "lookups: 100%|██████████| 798/798 [00:00<00:00, 29120.02d/s]\n",
            "lookups: 100%|██████████| 1000/1000 [00:00<00:00, 20238.38d/s]\n",
            "lookups: 100%|██████████| 1000/1000 [00:00<00:00, 27318.41d/s]\n",
            "lookups: 100%|██████████| 1000/1000 [00:00<00:00, 22250.48d/s]\n",
            "lookups: 100%|██████████| 1000/1000 [00:00<00:00, 25875.43d/s]\n",
            "lookups: 100%|██████████| 1000/1000 [00:00<00:00, 25705.59d/s]\n",
            "lookups: 100%|██████████| 539/539 [00:00<00:00, 28638.22d/s]\n",
            "lookups: 100%|██████████| 1000/1000 [00:00<00:00, 26670.80d/s]\n",
            "lookups: 100%|██████████| 1000/1000 [00:00<00:00, 20975.72d/s]\n",
            "lookups: 100%|██████████| 1000/1000 [00:00<00:00, 22504.05d/s]\n",
            "lookups: 100%|██████████| 1000/1000 [00:00<00:00, 26709.36d/s]\n",
            "lookups: 100%|██████████| 1000/1000 [00:00<00:00, 19431.30d/s]\n",
            "lookups: 100%|██████████| 1000/1000 [00:00<00:00, 19294.36d/s]\n",
            "lookups: 100%|██████████| 1000/1000 [00:00<00:00, 28626.74d/s]\n",
            "lookups: 100%|██████████| 47/47 [00:00<00:00, 9515.48d/s]\n",
            "lookups: 100%|██████████| 1000/1000 [00:00<00:00, 28310.82d/s]\n",
            "lookups: 100%|██████████| 1000/1000 [00:00<00:00, 25771.14d/s]\n",
            "lookups: 100%|██████████| 1000/1000 [00:00<00:00, 19335.36d/s]\n",
            "lookups: 100%|██████████| 1000/1000 [00:00<00:00, 21572.20d/s]\n",
            "lookups: 100%|██████████| 270/270 [00:00<00:00, 25762.37d/s]\n",
            "lookups: 100%|██████████| 1000/1000 [00:00<00:00, 20203.48d/s]\n",
            "lookups: 100%|██████████| 1000/1000 [00:00<00:00, 25108.38d/s]\n",
            "lookups: 100%|██████████| 1000/1000 [00:00<00:00, 25685.91d/s]\n",
            "lookups: 100%|██████████| 1000/1000 [00:00<00:00, 21972.36d/s]\n",
            "lookups: 100%|██████████| 613/613 [00:00<00:00, 28413.80d/s]\n",
            "lookups: 100%|██████████| 1000/1000 [00:00<00:00, 21321.95d/s]\n",
            "lookups: 100%|██████████| 1000/1000 [00:00<00:00, 20164.24d/s]\n",
            "lookups: 100%|██████████| 1000/1000 [00:00<00:00, 25720.41d/s]\n",
            "lookups: 100%|██████████| 1000/1000 [00:00<00:00, 22957.83d/s]\n",
            "lookups: 100%|██████████| 1000/1000 [00:00<00:00, 25539.67d/s]\n",
            "lookups: 100%|██████████| 175/175 [00:00<00:00, 20528.69d/s]\n",
            "lookups: 100%|██████████| 1000/1000 [00:00<00:00, 26469.33d/s]\n",
            "lookups: 100%|██████████| 1000/1000 [00:00<00:00, 27981.43d/s]\n",
            "lookups: 100%|██████████| 1000/1000 [00:00<00:00, 20099.02d/s]\n",
            "lookups: 100%|██████████| 1000/1000 [00:00<00:00, 25652.61d/s]\n",
            "lookups: 100%|██████████| 1000/1000 [00:00<00:00, 22092.14d/s]\n",
            "lookups: 100%|██████████| 1000/1000 [00:00<00:00, 20299.21d/s]\n",
            "lookups: 100%|██████████| 124/124 [00:00<00:00, 16493.63d/s]\n",
            "lookups: 100%|██████████| 1000/1000 [00:00<00:00, 20437.89d/s]\n",
            "lookups: 100%|██████████| 1000/1000 [00:00<00:00, 22996.98d/s]\n",
            "lookups: 100%|██████████| 1000/1000 [00:00<00:00, 28151.01d/s]\n",
            "lookups: 100%|██████████| 1000/1000 [00:00<00:00, 26338.52d/s]\n",
            "lookups: 100%|██████████| 753/753 [00:00<00:00, 22531.36d/s]\n",
            "lookups: 100%|██████████| 1000/1000 [00:00<00:00, 29727.65d/s]\n",
            "lookups: 100%|██████████| 1000/1000 [00:00<00:00, 27334.25d/s]\n",
            "lookups: 100%|██████████| 1000/1000 [00:00<00:00, 27242.11d/s]\n",
            "lookups: 100%|██████████| 1000/1000 [00:00<00:00, 21525.59d/s]\n",
            "lookups: 100%|██████████| 315/315 [00:00<00:00, 23193.70d/s]\n",
            "lookups: 100%|██████████| 1000/1000 [00:00<00:00, 27651.23d/s]\n",
            "lookups: 100%|██████████| 1000/1000 [00:00<00:00, 24891.27d/s]\n",
            "lookups: 100%|██████████| 1000/1000 [00:00<00:00, 29091.15d/s]\n",
            "lookups: 100%|██████████| 1000/1000 [00:00<00:00, 27237.69d/s]\n",
            "lookups: 100%|██████████| 1000/1000 [00:00<00:00, 28696.07d/s]\n",
            "lookups: 100%|██████████| 28/28 [00:00<00:00, 9898.06d/s]\n",
            "lookups: 100%|██████████| 1000/1000 [00:00<00:00, 29432.06d/s]\n",
            "lookups: 100%|██████████| 1000/1000 [00:00<00:00, 22987.27d/s]\n",
            "lookups: 100%|██████████| 1000/1000 [00:00<00:00, 27291.21d/s]\n",
            "lookups: 100%|██████████| 1000/1000 [00:00<00:00, 24127.66d/s]\n",
            "lookups: 100%|██████████| 922/922 [00:00<00:00, 29270.19d/s]\n",
            "lookups: 100%|██████████| 1000/1000 [00:00<00:00, 29421.12d/s]\n",
            "lookups: 100%|██████████| 1000/1000 [00:00<00:00, 27210.12d/s]\n",
            "lookups: 100%|██████████| 1000/1000 [00:00<00:00, 19266.35d/s]\n",
            "lookups: 100%|██████████| 608/608 [00:00<00:00, 28365.43d/s]\n",
            "lookups: 100%|██████████| 1000/1000 [00:00<00:00, 29569.63d/s]\n",
            "lookups: 100%|██████████| 1000/1000 [00:00<00:00, 24567.46d/s]\n",
            "lookups: 100%|██████████| 1000/1000 [00:00<00:00, 27732.77d/s]\n",
            "lookups: 100%|██████████| 1000/1000 [00:00<00:00, 28021.81d/s]\n",
            "lookups: 100%|██████████| 1000/1000 [00:00<00:00, 28982.20d/s]\n",
            "lookups: 100%|██████████| 530/530 [00:00<00:00, 21152.11d/s]\n",
            "lookups: 100%|██████████| 1000/1000 [00:00<00:00, 25423.11d/s]\n",
            "lookups: 100%|██████████| 1000/1000 [00:00<00:00, 29143.10d/s]\n",
            "lookups: 100%|██████████| 1000/1000 [00:00<00:00, 29432.47d/s]\n",
            "lookups: 100%|██████████| 790/790 [00:00<00:00, 30220.26d/s]\n",
            "lookups: 100%|██████████| 1000/1000 [00:00<00:00, 25461.38d/s]\n",
            "lookups: 100%|██████████| 1000/1000 [00:00<00:00, 28994.42d/s]\n",
            "lookups: 100%|██████████| 1000/1000 [00:00<00:00, 29057.90d/s]\n",
            "lookups: 100%|██████████| 1000/1000 [00:00<00:00, 25987.66d/s]\n",
            "lookups: 100%|██████████| 1000/1000 [00:00<00:00, 28103.10d/s]\n",
            "lookups: 100%|██████████| 1000/1000 [00:00<00:00, 28371.52d/s]\n",
            "lookups: 100%|██████████| 420/420 [00:00<00:00, 20365.88d/s]\n",
            "lookups: 100%|██████████| 1000/1000 [00:00<00:00, 25445.62d/s]\n",
            "lookups: 100%|██████████| 1000/1000 [00:00<00:00, 23726.53d/s]\n",
            "lookups: 100%|██████████| 1000/1000 [00:00<00:00, 24700.42d/s]\n",
            "lookups: 100%|██████████| 1000/1000 [00:00<00:00, 27347.62d/s]\n",
            "lookups: 100%|██████████| 610/610 [00:00<00:00, 29288.16d/s]\n",
            "lookups: 100%|██████████| 1000/1000 [00:00<00:00, 24890.09d/s]\n",
            "lookups: 100%|██████████| 1000/1000 [00:00<00:00, 23099.82d/s]\n",
            "lookups: 100%|██████████| 1000/1000 [00:00<00:00, 27381.72d/s]\n",
            "lookups: 100%|██████████| 1000/1000 [00:00<00:00, 23463.33d/s]\n",
            "lookups: 100%|██████████| 783/783 [00:00<00:00, 28984.70d/s]\n",
            "lookups: 100%|██████████| 1000/1000 [00:00<00:00, 28002.16d/s]\n",
            "lookups: 100%|██████████| 1000/1000 [00:00<00:00, 24364.24d/s]\n",
            "lookups: 100%|██████████| 1000/1000 [00:00<00:00, 29025.12d/s]\n",
            "lookups: 100%|██████████| 1000/1000 [00:00<00:00, 25644.45d/s]\n",
            "lookups: 100%|██████████| 463/463 [00:00<00:00, 21845.33d/s]\n",
            "lookups: 100%|██████████| 1000/1000 [00:00<00:00, 21274.25d/s]\n",
            "lookups: 100%|██████████| 1000/1000 [00:00<00:00, 27846.56d/s]\n",
            "lookups: 100%|██████████| 1000/1000 [00:00<00:00, 24161.02d/s]\n",
            "lookups: 100%|██████████| 1000/1000 [00:00<00:00, 28547.83d/s]\n",
            "lookups: 100%|██████████| 866/866 [00:00<00:00, 28933.15d/s]\n",
            "lookups: 100%|██████████| 1000/1000 [00:00<00:00, 25608.75d/s]\n",
            "lookups: 100%|██████████| 1000/1000 [00:00<00:00, 28337.21d/s]\n",
            "lookups: 100%|██████████| 1000/1000 [00:00<00:00, 25451.80d/s]\n",
            "lookups: 100%|██████████| 1000/1000 [00:00<00:00, 21877.47d/s]\n",
            "lookups: 100%|██████████| 380/380 [00:00<00:00, 28581.80d/s]\n",
            "lookups: 100%|██████████| 1000/1000 [00:00<00:00, 22108.91d/s]\n",
            "lookups: 100%|██████████| 1000/1000 [00:00<00:00, 17309.38d/s]\n",
            "lookups: 100%|██████████| 1000/1000 [00:00<00:00, 24872.08d/s]\n",
            "lookups: 100%|██████████| 1000/1000 [00:00<00:00, 25766.23d/s]\n",
            "lookups: 100%|██████████| 1000/1000 [00:00<00:00, 23647.60d/s]\n",
            "lookups: 100%|██████████| 216/216 [00:00<00:00, 23367.20d/s]\n",
            "lookups: 100%|██████████| 1000/1000 [00:00<00:00, 23710.30d/s]\n",
            "lookups: 100%|██████████| 1000/1000 [00:00<00:00, 19528.19d/s]\n",
            "lookups: 100%|██████████| 1000/1000 [00:00<00:00, 21477.86d/s]\n",
            "lookups: 100%|██████████| 120/120 [00:00<00:00, 17641.04d/s]\n",
            "lookups: 100%|██████████| 1000/1000 [00:00<00:00, 25180.13d/s]\n",
            "lookups: 100%|██████████| 1000/1000 [00:00<00:00, 23562.05d/s]\n",
            "lookups: 100%|██████████| 1000/1000 [00:00<00:00, 24200.61d/s]\n",
            "lookups: 100%|██████████| 1000/1000 [00:00<00:00, 24145.72d/s]\n",
            "lookups: 100%|██████████| 1000/1000 [00:00<00:00, 19821.20d/s]\n",
            "lookups: 100%|██████████| 553/553 [00:00<00:00, 20193.72d/s]\n",
            "lookups: 100%|██████████| 1000/1000 [00:00<00:00, 25620.80d/s]\n",
            "lookups: 100%|██████████| 1000/1000 [00:00<00:00, 26912.27d/s]\n",
            "lookups: 100%|██████████| 1000/1000 [00:00<00:00, 21777.51d/s]\n",
            "lookups: 100%|██████████| 1000/1000 [00:00<00:00, 26257.73d/s]\n",
            "lookups: 100%|██████████| 1000/1000 [00:00<00:00, 28348.13d/s]\n",
            "lookups: 100%|██████████| 345/345 [00:00<00:00, 21523.01d/s]\n",
            "lookups: 100%|██████████| 1000/1000 [00:00<00:00, 19093.05d/s]\n",
            "lookups: 100%|██████████| 1000/1000 [00:00<00:00, 27798.39d/s]\n",
            "lookups: 100%|██████████| 1000/1000 [00:00<00:00, 23648.00d/s]\n",
            "lookups: 100%|██████████| 1000/1000 [00:00<00:00, 29405.85d/s]\n",
            "lookups: 100%|██████████| 1000/1000 [00:00<00:00, 21091.85d/s]\n",
            "lookups: 100%|██████████| 624/624 [00:00<00:00, 29197.62d/s]\n"
          ],
          "name": "stderr"
        },
        {
          "output_type": "execute_result",
          "data": {
            "text/html": [
              "<div>\n",
              "<style scoped>\n",
              "    .dataframe tbody tr th:only-of-type {\n",
              "        vertical-align: middle;\n",
              "    }\n",
              "\n",
              "    .dataframe tbody tr th {\n",
              "        vertical-align: top;\n",
              "    }\n",
              "\n",
              "    .dataframe thead th {\n",
              "        text-align: right;\n",
              "    }\n",
              "</style>\n",
              "<table border=\"1\" class=\"dataframe\">\n",
              "  <thead>\n",
              "    <tr style=\"text-align: right;\">\n",
              "      <th></th>\n",
              "      <th>name</th>\n",
              "      <th>map</th>\n",
              "      <th>recip_rank</th>\n",
              "      <th>mrt</th>\n",
              "    </tr>\n",
              "  </thead>\n",
              "  <tbody>\n",
              "    <tr>\n",
              "      <th>0</th>\n",
              "      <td>BM25</td>\n",
              "      <td>0.338941</td>\n",
              "      <td>0.808238</td>\n",
              "      <td>24.625619</td>\n",
              "    </tr>\n",
              "    <tr>\n",
              "      <th>1</th>\n",
              "      <td>ColBERT</td>\n",
              "      <td>0.332899</td>\n",
              "      <td>0.762643</td>\n",
              "      <td>839.961611</td>\n",
              "    </tr>\n",
              "  </tbody>\n",
              "</table>\n",
              "</div>"
            ],
            "text/plain": [
              "      name       map  recip_rank         mrt\n",
              "0     BM25  0.338941    0.808238   24.625619\n",
              "1  ColBERT  0.332899    0.762643  839.961611"
            ]
          },
          "metadata": {
            "tags": []
          },
          "execution_count": 32
        }
      ]
    },
    {
      "cell_type": "code",
      "metadata": {
        "id": "Gx37vThbkiGa"
      },
      "source": [
        ""
      ],
      "execution_count": null,
      "outputs": []
    }
  ]
}