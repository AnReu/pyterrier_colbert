{
 "metadata": {
  "language_info": {
   "codemirror_mode": {
    "name": "ipython",
    "version": 3
   },
   "file_extension": ".py",
   "mimetype": "text/x-python",
   "name": "python",
   "nbconvert_exporter": "python",
   "pygments_lexer": "ipython3",
   "version": "3.6.12-final"
  },
  "orig_nbformat": 2,
  "kernelspec": {
   "name": "python3",
   "display_name": "Python 3",
   "language": "python"
  }
 },
 "nbformat": 4,
 "nbformat_minor": 2,
 "cells": [
  {
   "cell_type": "code",
   "execution_count": 1,
   "metadata": {},
   "outputs": [
    {
     "output_type": "stream",
     "name": "stdout",
     "text": [
      "PyTerrier 0.3.1 has loaded Terrier 5.4 (built by craigm on 2021-01-16 14:17)\n"
     ]
    }
   ],
   "source": [
    "import pyterrier as pt\n",
    "pt.init()"
   ]
  },
  {
   "cell_type": "code",
   "execution_count": 2,
   "metadata": {},
   "outputs": [],
   "source": [
    "checkpoint=\"/users/tr.craigm/projects/pyterrier/pyterrier_bert/ColBERT/GOOD_MODELS/colbert.dnn\"\n",
    "index_root=\"/local/terrier/Indices/msMarco/2020_craig/colbert_passage_ids\"\n",
    "index_name=\"index_name3\""
   ]
  },
  {
   "cell_type": "code",
   "execution_count": 3,
   "metadata": {},
   "outputs": [
    {
     "output_type": "stream",
     "name": "stderr",
     "text": [
      "Some weights of the model checkpoint at bert-base-uncased were not used when initializing ColBERT: ['cls.predictions.bias', 'cls.predictions.transform.dense.weight', 'cls.predictions.transform.dense.bias', 'cls.predictions.decoder.weight', 'cls.seq_relationship.weight', 'cls.seq_relationship.bias', 'cls.predictions.transform.LayerNorm.weight', 'cls.predictions.transform.LayerNorm.bias']\n",
      "- This IS expected if you are initializing ColBERT from the checkpoint of a model trained on another task or with another architecture (e.g. initializing a BertForSequenceClassification model from a BertForPretraining model).\n",
      "- This IS NOT expected if you are initializing ColBERT from the checkpoint of a model that you expect to be exactly identical (initializing a BertForSequenceClassification model from a BertForSequenceClassification model).\n",
      "Some weights of ColBERT were not initialized from the model checkpoint at bert-base-uncased and are newly initialized: ['linear.weight']\n",
      "You should probably TRAIN this model on a down-stream task to be able to use it for predictions and inference.\n",
      "[Feb 20, 17:47:59] #> Loading model checkpoint.\n",
      "[Feb 20, 17:47:59] #> Loading checkpoint /users/tr.craigm/projects/pyterrier/pyterrier_bert/ColBERT/GOOD_MODELS/colbert.dnn\n",
      "[Feb 20, 17:48:00] #> checkpoint['epoch'] = 0\n",
      "[Feb 20, 17:48:00] #> checkpoint['batch'] = 44500\n"
     ]
    }
   ],
   "source": [
    "import pyterrier_colbert.ranking\n",
    "from importlib import reload\n",
    "reload(pyterrier_colbert.ranking)\n",
    "\n",
    "pytcolbert = pyterrier_colbert.ranking.ColBERTFactory(checkpoint, index_root, index_name, memtype=\"mmap\")\n"
   ]
  },
  {
   "cell_type": "code",
   "execution_count": 4,
   "metadata": {},
   "outputs": [
    {
     "output_type": "execute_result",
     "data": {
      "text/plain": [
       "  qid               query                                         query_embs  \\\n",
       "0   1  chemical reactions  [[tensor(0.0680), tensor(-0.0084), tensor(0.11...   \n",
       "\n",
       "                                          query_toks  \n",
       "0  [tensor(101), tensor(1), tensor(5072), tensor(...  "
      ],
      "text/html": "<div>\n<style scoped>\n    .dataframe tbody tr th:only-of-type {\n        vertical-align: middle;\n    }\n\n    .dataframe tbody tr th {\n        vertical-align: top;\n    }\n\n    .dataframe thead th {\n        text-align: right;\n    }\n</style>\n<table border=\"1\" class=\"dataframe\">\n  <thead>\n    <tr style=\"text-align: right;\">\n      <th></th>\n      <th>qid</th>\n      <th>query</th>\n      <th>query_embs</th>\n      <th>query_toks</th>\n    </tr>\n  </thead>\n  <tbody>\n    <tr>\n      <th>0</th>\n      <td>1</td>\n      <td>chemical reactions</td>\n      <td>[[tensor(0.0680), tensor(-0.0084), tensor(0.11...</td>\n      <td>[tensor(101), tensor(1), tensor(5072), tensor(...</td>\n    </tr>\n  </tbody>\n</table>\n</div>"
     },
     "metadata": {},
     "execution_count": 4
    }
   ],
   "source": [
    "pytcolbert.query_encoder()(pt.new.queries(\"chemical reactions\"))"
   ]
  },
  {
   "cell_type": "code",
   "execution_count": 5,
   "metadata": {},
   "outputs": [
    {
     "output_type": "stream",
     "name": "stdout",
     "text": [
      "[Feb 20, 17:48:02] #> Loading the FAISS index from /local/terrier/Indices/msMarco/2020_craig/colbert_passage_ids/index_name3/ivfpq.faiss ..\n",
      "[Feb 20, 17:48:19] #> Building the emb2pid mapping..\n",
      "[Feb 20, 17:48:19] len(all_doclens) = 8841823\n",
      "[Feb 20, 17:49:27] len(self.emb2pid) = 687989391\n",
      "0q [00:00, ?q/s][Feb 20, 17:49:27] #> Search in batches with faiss. \t\t Q.size() = torch.Size([1, 32, 128]), Q_faiss.size() = torch.Size([32, 128])\n",
      "[Feb 20, 17:49:27] #> Searching from 0 to 32...\n",
      "[Feb 20, 17:49:27] #> Lookup the PIDs..\n",
      "[Feb 20, 17:49:27] #> Converting to a list [shape = torch.Size([1, 320])]..\n",
      "[Feb 20, 17:49:27] #> Removing duplicates (in parallel if large enough)..\n",
      "[Feb 20, 17:49:27] #> Done with embedding_ids_to_pids().\n",
      "1q [00:00, 28.09q/s]qid 1 retrieved docs 58\n",
      "\n"
     ]
    },
    {
     "output_type": "execute_result",
     "data": {
      "text/plain": [
       "   qid               query    docno  \\\n",
       "0    1  chemical reactions  7575552   \n",
       "1    1  chemical reactions  2823040   \n",
       "2    1  chemical reactions  5237777   \n",
       "3    1  chemical reactions  5897617   \n",
       "4    1  chemical reactions  5897619   \n",
       "5    1  chemical reactions   467988   \n",
       "6    1  chemical reactions   661396   \n",
       "7    1  chemical reactions  7203473   \n",
       "8    1  chemical reactions   973462   \n",
       "9    1  chemical reactions  5182876   \n",
       "10   1  chemical reactions  1137181   \n",
       "11   1  chemical reactions  1218078   \n",
       "12   1  chemical reactions  8572191   \n",
       "13   1  chemical reactions  1238175   \n",
       "14   1  chemical reactions  7605154   \n",
       "15   1  chemical reactions  1833252   \n",
       "16   1  chemical reactions  1833253   \n",
       "17   1  chemical reactions  3395621   \n",
       "18   1  chemical reactions  4721960   \n",
       "19   1  chemical reactions  6056488   \n",
       "20   1  chemical reactions  5143339   \n",
       "21   1  chemical reactions  5143342   \n",
       "22   1  chemical reactions  1525425   \n",
       "23   1  chemical reactions  3534258   \n",
       "24   1  chemical reactions  7070513   \n",
       "25   1  chemical reactions  3373235   \n",
       "26   1  chemical reactions  2765749   \n",
       "27   1  chemical reactions  1074102   \n",
       "28   1  chemical reactions  1525431   \n",
       "29   1  chemical reactions  7981624   \n",
       "30   1  chemical reactions  1074097   \n",
       "31   1  chemical reactions  1406142   \n",
       "32   1  chemical reactions  6295615   \n",
       "33   1  chemical reactions   742208   \n",
       "34   1  chemical reactions   742206   \n",
       "35   1  chemical reactions   742210   \n",
       "36   1  chemical reactions  4748867   \n",
       "37   1  chemical reactions  5913794   \n",
       "38   1  chemical reactions  6575303   \n",
       "39   1  chemical reactions  8032459   \n",
       "40   1  chemical reactions   793814   \n",
       "41   1  chemical reactions  5453527   \n",
       "42   1  chemical reactions  1420159   \n",
       "43   1  chemical reactions  6260311   \n",
       "44   1  chemical reactions   203234   \n",
       "45   1  chemical reactions   203236   \n",
       "46   1  chemical reactions  2711269   \n",
       "47   1  chemical reactions  8740072   \n",
       "48   1  chemical reactions  4095848   \n",
       "49   1  chemical reactions   129901   \n",
       "50   1  chemical reactions  5037421   \n",
       "51   1  chemical reactions   129904   \n",
       "52   1  chemical reactions  8311152   \n",
       "53   1  chemical reactions   392947   \n",
       "54   1  chemical reactions  1473396   \n",
       "55   1  chemical reactions  4466936   \n",
       "56   1  chemical reactions  2521081   \n",
       "57   1  chemical reactions  7575551   \n",
       "\n",
       "                                           query_toks  \\\n",
       "0   [tensor(101), tensor(1), tensor(5072), tensor(...   \n",
       "1   [tensor(101), tensor(1), tensor(5072), tensor(...   \n",
       "2   [tensor(101), tensor(1), tensor(5072), tensor(...   \n",
       "3   [tensor(101), tensor(1), tensor(5072), tensor(...   \n",
       "4   [tensor(101), tensor(1), tensor(5072), tensor(...   \n",
       "5   [tensor(101), tensor(1), tensor(5072), tensor(...   \n",
       "6   [tensor(101), tensor(1), tensor(5072), tensor(...   \n",
       "7   [tensor(101), tensor(1), tensor(5072), tensor(...   \n",
       "8   [tensor(101), tensor(1), tensor(5072), tensor(...   \n",
       "9   [tensor(101), tensor(1), tensor(5072), tensor(...   \n",
       "10  [tensor(101), tensor(1), tensor(5072), tensor(...   \n",
       "11  [tensor(101), tensor(1), tensor(5072), tensor(...   \n",
       "12  [tensor(101), tensor(1), tensor(5072), tensor(...   \n",
       "13  [tensor(101), tensor(1), tensor(5072), tensor(...   \n",
       "14  [tensor(101), tensor(1), tensor(5072), tensor(...   \n",
       "15  [tensor(101), tensor(1), tensor(5072), tensor(...   \n",
       "16  [tensor(101), tensor(1), tensor(5072), tensor(...   \n",
       "17  [tensor(101), tensor(1), tensor(5072), tensor(...   \n",
       "18  [tensor(101), tensor(1), tensor(5072), tensor(...   \n",
       "19  [tensor(101), tensor(1), tensor(5072), tensor(...   \n",
       "20  [tensor(101), tensor(1), tensor(5072), tensor(...   \n",
       "21  [tensor(101), tensor(1), tensor(5072), tensor(...   \n",
       "22  [tensor(101), tensor(1), tensor(5072), tensor(...   \n",
       "23  [tensor(101), tensor(1), tensor(5072), tensor(...   \n",
       "24  [tensor(101), tensor(1), tensor(5072), tensor(...   \n",
       "25  [tensor(101), tensor(1), tensor(5072), tensor(...   \n",
       "26  [tensor(101), tensor(1), tensor(5072), tensor(...   \n",
       "27  [tensor(101), tensor(1), tensor(5072), tensor(...   \n",
       "28  [tensor(101), tensor(1), tensor(5072), tensor(...   \n",
       "29  [tensor(101), tensor(1), tensor(5072), tensor(...   \n",
       "30  [tensor(101), tensor(1), tensor(5072), tensor(...   \n",
       "31  [tensor(101), tensor(1), tensor(5072), tensor(...   \n",
       "32  [tensor(101), tensor(1), tensor(5072), tensor(...   \n",
       "33  [tensor(101), tensor(1), tensor(5072), tensor(...   \n",
       "34  [tensor(101), tensor(1), tensor(5072), tensor(...   \n",
       "35  [tensor(101), tensor(1), tensor(5072), tensor(...   \n",
       "36  [tensor(101), tensor(1), tensor(5072), tensor(...   \n",
       "37  [tensor(101), tensor(1), tensor(5072), tensor(...   \n",
       "38  [tensor(101), tensor(1), tensor(5072), tensor(...   \n",
       "39  [tensor(101), tensor(1), tensor(5072), tensor(...   \n",
       "40  [tensor(101), tensor(1), tensor(5072), tensor(...   \n",
       "41  [tensor(101), tensor(1), tensor(5072), tensor(...   \n",
       "42  [tensor(101), tensor(1), tensor(5072), tensor(...   \n",
       "43  [tensor(101), tensor(1), tensor(5072), tensor(...   \n",
       "44  [tensor(101), tensor(1), tensor(5072), tensor(...   \n",
       "45  [tensor(101), tensor(1), tensor(5072), tensor(...   \n",
       "46  [tensor(101), tensor(1), tensor(5072), tensor(...   \n",
       "47  [tensor(101), tensor(1), tensor(5072), tensor(...   \n",
       "48  [tensor(101), tensor(1), tensor(5072), tensor(...   \n",
       "49  [tensor(101), tensor(1), tensor(5072), tensor(...   \n",
       "50  [tensor(101), tensor(1), tensor(5072), tensor(...   \n",
       "51  [tensor(101), tensor(1), tensor(5072), tensor(...   \n",
       "52  [tensor(101), tensor(1), tensor(5072), tensor(...   \n",
       "53  [tensor(101), tensor(1), tensor(5072), tensor(...   \n",
       "54  [tensor(101), tensor(1), tensor(5072), tensor(...   \n",
       "55  [tensor(101), tensor(1), tensor(5072), tensor(...   \n",
       "56  [tensor(101), tensor(1), tensor(5072), tensor(...   \n",
       "57  [tensor(101), tensor(1), tensor(5072), tensor(...   \n",
       "\n",
       "                                           query_embs  \n",
       "0   [[tensor(0.0680), tensor(-0.0084), tensor(0.11...  \n",
       "1   [[tensor(0.0680), tensor(-0.0084), tensor(0.11...  \n",
       "2   [[tensor(0.0680), tensor(-0.0084), tensor(0.11...  \n",
       "3   [[tensor(0.0680), tensor(-0.0084), tensor(0.11...  \n",
       "4   [[tensor(0.0680), tensor(-0.0084), tensor(0.11...  \n",
       "5   [[tensor(0.0680), tensor(-0.0084), tensor(0.11...  \n",
       "6   [[tensor(0.0680), tensor(-0.0084), tensor(0.11...  \n",
       "7   [[tensor(0.0680), tensor(-0.0084), tensor(0.11...  \n",
       "8   [[tensor(0.0680), tensor(-0.0084), tensor(0.11...  \n",
       "9   [[tensor(0.0680), tensor(-0.0084), tensor(0.11...  \n",
       "10  [[tensor(0.0680), tensor(-0.0084), tensor(0.11...  \n",
       "11  [[tensor(0.0680), tensor(-0.0084), tensor(0.11...  \n",
       "12  [[tensor(0.0680), tensor(-0.0084), tensor(0.11...  \n",
       "13  [[tensor(0.0680), tensor(-0.0084), tensor(0.11...  \n",
       "14  [[tensor(0.0680), tensor(-0.0084), tensor(0.11...  \n",
       "15  [[tensor(0.0680), tensor(-0.0084), tensor(0.11...  \n",
       "16  [[tensor(0.0680), tensor(-0.0084), tensor(0.11...  \n",
       "17  [[tensor(0.0680), tensor(-0.0084), tensor(0.11...  \n",
       "18  [[tensor(0.0680), tensor(-0.0084), tensor(0.11...  \n",
       "19  [[tensor(0.0680), tensor(-0.0084), tensor(0.11...  \n",
       "20  [[tensor(0.0680), tensor(-0.0084), tensor(0.11...  \n",
       "21  [[tensor(0.0680), tensor(-0.0084), tensor(0.11...  \n",
       "22  [[tensor(0.0680), tensor(-0.0084), tensor(0.11...  \n",
       "23  [[tensor(0.0680), tensor(-0.0084), tensor(0.11...  \n",
       "24  [[tensor(0.0680), tensor(-0.0084), tensor(0.11...  \n",
       "25  [[tensor(0.0680), tensor(-0.0084), tensor(0.11...  \n",
       "26  [[tensor(0.0680), tensor(-0.0084), tensor(0.11...  \n",
       "27  [[tensor(0.0680), tensor(-0.0084), tensor(0.11...  \n",
       "28  [[tensor(0.0680), tensor(-0.0084), tensor(0.11...  \n",
       "29  [[tensor(0.0680), tensor(-0.0084), tensor(0.11...  \n",
       "30  [[tensor(0.0680), tensor(-0.0084), tensor(0.11...  \n",
       "31  [[tensor(0.0680), tensor(-0.0084), tensor(0.11...  \n",
       "32  [[tensor(0.0680), tensor(-0.0084), tensor(0.11...  \n",
       "33  [[tensor(0.0680), tensor(-0.0084), tensor(0.11...  \n",
       "34  [[tensor(0.0680), tensor(-0.0084), tensor(0.11...  \n",
       "35  [[tensor(0.0680), tensor(-0.0084), tensor(0.11...  \n",
       "36  [[tensor(0.0680), tensor(-0.0084), tensor(0.11...  \n",
       "37  [[tensor(0.0680), tensor(-0.0084), tensor(0.11...  \n",
       "38  [[tensor(0.0680), tensor(-0.0084), tensor(0.11...  \n",
       "39  [[tensor(0.0680), tensor(-0.0084), tensor(0.11...  \n",
       "40  [[tensor(0.0680), tensor(-0.0084), tensor(0.11...  \n",
       "41  [[tensor(0.0680), tensor(-0.0084), tensor(0.11...  \n",
       "42  [[tensor(0.0680), tensor(-0.0084), tensor(0.11...  \n",
       "43  [[tensor(0.0680), tensor(-0.0084), tensor(0.11...  \n",
       "44  [[tensor(0.0680), tensor(-0.0084), tensor(0.11...  \n",
       "45  [[tensor(0.0680), tensor(-0.0084), tensor(0.11...  \n",
       "46  [[tensor(0.0680), tensor(-0.0084), tensor(0.11...  \n",
       "47  [[tensor(0.0680), tensor(-0.0084), tensor(0.11...  \n",
       "48  [[tensor(0.0680), tensor(-0.0084), tensor(0.11...  \n",
       "49  [[tensor(0.0680), tensor(-0.0084), tensor(0.11...  \n",
       "50  [[tensor(0.0680), tensor(-0.0084), tensor(0.11...  \n",
       "51  [[tensor(0.0680), tensor(-0.0084), tensor(0.11...  \n",
       "52  [[tensor(0.0680), tensor(-0.0084), tensor(0.11...  \n",
       "53  [[tensor(0.0680), tensor(-0.0084), tensor(0.11...  \n",
       "54  [[tensor(0.0680), tensor(-0.0084), tensor(0.11...  \n",
       "55  [[tensor(0.0680), tensor(-0.0084), tensor(0.11...  \n",
       "56  [[tensor(0.0680), tensor(-0.0084), tensor(0.11...  \n",
       "57  [[tensor(0.0680), tensor(-0.0084), tensor(0.11...  "
      ],
      "text/html": "<div>\n<style scoped>\n    .dataframe tbody tr th:only-of-type {\n        vertical-align: middle;\n    }\n\n    .dataframe tbody tr th {\n        vertical-align: top;\n    }\n\n    .dataframe thead th {\n        text-align: right;\n    }\n</style>\n<table border=\"1\" class=\"dataframe\">\n  <thead>\n    <tr style=\"text-align: right;\">\n      <th></th>\n      <th>qid</th>\n      <th>query</th>\n      <th>docno</th>\n      <th>query_toks</th>\n      <th>query_embs</th>\n    </tr>\n  </thead>\n  <tbody>\n    <tr>\n      <th>0</th>\n      <td>1</td>\n      <td>chemical reactions</td>\n      <td>7575552</td>\n      <td>[tensor(101), tensor(1), tensor(5072), tensor(...</td>\n      <td>[[tensor(0.0680), tensor(-0.0084), tensor(0.11...</td>\n    </tr>\n    <tr>\n      <th>1</th>\n      <td>1</td>\n      <td>chemical reactions</td>\n      <td>2823040</td>\n      <td>[tensor(101), tensor(1), tensor(5072), tensor(...</td>\n      <td>[[tensor(0.0680), tensor(-0.0084), tensor(0.11...</td>\n    </tr>\n    <tr>\n      <th>2</th>\n      <td>1</td>\n      <td>chemical reactions</td>\n      <td>5237777</td>\n      <td>[tensor(101), tensor(1), tensor(5072), tensor(...</td>\n      <td>[[tensor(0.0680), tensor(-0.0084), tensor(0.11...</td>\n    </tr>\n    <tr>\n      <th>3</th>\n      <td>1</td>\n      <td>chemical reactions</td>\n      <td>5897617</td>\n      <td>[tensor(101), tensor(1), tensor(5072), tensor(...</td>\n      <td>[[tensor(0.0680), tensor(-0.0084), tensor(0.11...</td>\n    </tr>\n    <tr>\n      <th>4</th>\n      <td>1</td>\n      <td>chemical reactions</td>\n      <td>5897619</td>\n      <td>[tensor(101), tensor(1), tensor(5072), tensor(...</td>\n      <td>[[tensor(0.0680), tensor(-0.0084), tensor(0.11...</td>\n    </tr>\n    <tr>\n      <th>5</th>\n      <td>1</td>\n      <td>chemical reactions</td>\n      <td>467988</td>\n      <td>[tensor(101), tensor(1), tensor(5072), tensor(...</td>\n      <td>[[tensor(0.0680), tensor(-0.0084), tensor(0.11...</td>\n    </tr>\n    <tr>\n      <th>6</th>\n      <td>1</td>\n      <td>chemical reactions</td>\n      <td>661396</td>\n      <td>[tensor(101), tensor(1), tensor(5072), tensor(...</td>\n      <td>[[tensor(0.0680), tensor(-0.0084), tensor(0.11...</td>\n    </tr>\n    <tr>\n      <th>7</th>\n      <td>1</td>\n      <td>chemical reactions</td>\n      <td>7203473</td>\n      <td>[tensor(101), tensor(1), tensor(5072), tensor(...</td>\n      <td>[[tensor(0.0680), tensor(-0.0084), tensor(0.11...</td>\n    </tr>\n    <tr>\n      <th>8</th>\n      <td>1</td>\n      <td>chemical reactions</td>\n      <td>973462</td>\n      <td>[tensor(101), tensor(1), tensor(5072), tensor(...</td>\n      <td>[[tensor(0.0680), tensor(-0.0084), tensor(0.11...</td>\n    </tr>\n    <tr>\n      <th>9</th>\n      <td>1</td>\n      <td>chemical reactions</td>\n      <td>5182876</td>\n      <td>[tensor(101), tensor(1), tensor(5072), tensor(...</td>\n      <td>[[tensor(0.0680), tensor(-0.0084), tensor(0.11...</td>\n    </tr>\n    <tr>\n      <th>10</th>\n      <td>1</td>\n      <td>chemical reactions</td>\n      <td>1137181</td>\n      <td>[tensor(101), tensor(1), tensor(5072), tensor(...</td>\n      <td>[[tensor(0.0680), tensor(-0.0084), tensor(0.11...</td>\n    </tr>\n    <tr>\n      <th>11</th>\n      <td>1</td>\n      <td>chemical reactions</td>\n      <td>1218078</td>\n      <td>[tensor(101), tensor(1), tensor(5072), tensor(...</td>\n      <td>[[tensor(0.0680), tensor(-0.0084), tensor(0.11...</td>\n    </tr>\n    <tr>\n      <th>12</th>\n      <td>1</td>\n      <td>chemical reactions</td>\n      <td>8572191</td>\n      <td>[tensor(101), tensor(1), tensor(5072), tensor(...</td>\n      <td>[[tensor(0.0680), tensor(-0.0084), tensor(0.11...</td>\n    </tr>\n    <tr>\n      <th>13</th>\n      <td>1</td>\n      <td>chemical reactions</td>\n      <td>1238175</td>\n      <td>[tensor(101), tensor(1), tensor(5072), tensor(...</td>\n      <td>[[tensor(0.0680), tensor(-0.0084), tensor(0.11...</td>\n    </tr>\n    <tr>\n      <th>14</th>\n      <td>1</td>\n      <td>chemical reactions</td>\n      <td>7605154</td>\n      <td>[tensor(101), tensor(1), tensor(5072), tensor(...</td>\n      <td>[[tensor(0.0680), tensor(-0.0084), tensor(0.11...</td>\n    </tr>\n    <tr>\n      <th>15</th>\n      <td>1</td>\n      <td>chemical reactions</td>\n      <td>1833252</td>\n      <td>[tensor(101), tensor(1), tensor(5072), tensor(...</td>\n      <td>[[tensor(0.0680), tensor(-0.0084), tensor(0.11...</td>\n    </tr>\n    <tr>\n      <th>16</th>\n      <td>1</td>\n      <td>chemical reactions</td>\n      <td>1833253</td>\n      <td>[tensor(101), tensor(1), tensor(5072), tensor(...</td>\n      <td>[[tensor(0.0680), tensor(-0.0084), tensor(0.11...</td>\n    </tr>\n    <tr>\n      <th>17</th>\n      <td>1</td>\n      <td>chemical reactions</td>\n      <td>3395621</td>\n      <td>[tensor(101), tensor(1), tensor(5072), tensor(...</td>\n      <td>[[tensor(0.0680), tensor(-0.0084), tensor(0.11...</td>\n    </tr>\n    <tr>\n      <th>18</th>\n      <td>1</td>\n      <td>chemical reactions</td>\n      <td>4721960</td>\n      <td>[tensor(101), tensor(1), tensor(5072), tensor(...</td>\n      <td>[[tensor(0.0680), tensor(-0.0084), tensor(0.11...</td>\n    </tr>\n    <tr>\n      <th>19</th>\n      <td>1</td>\n      <td>chemical reactions</td>\n      <td>6056488</td>\n      <td>[tensor(101), tensor(1), tensor(5072), tensor(...</td>\n      <td>[[tensor(0.0680), tensor(-0.0084), tensor(0.11...</td>\n    </tr>\n    <tr>\n      <th>20</th>\n      <td>1</td>\n      <td>chemical reactions</td>\n      <td>5143339</td>\n      <td>[tensor(101), tensor(1), tensor(5072), tensor(...</td>\n      <td>[[tensor(0.0680), tensor(-0.0084), tensor(0.11...</td>\n    </tr>\n    <tr>\n      <th>21</th>\n      <td>1</td>\n      <td>chemical reactions</td>\n      <td>5143342</td>\n      <td>[tensor(101), tensor(1), tensor(5072), tensor(...</td>\n      <td>[[tensor(0.0680), tensor(-0.0084), tensor(0.11...</td>\n    </tr>\n    <tr>\n      <th>22</th>\n      <td>1</td>\n      <td>chemical reactions</td>\n      <td>1525425</td>\n      <td>[tensor(101), tensor(1), tensor(5072), tensor(...</td>\n      <td>[[tensor(0.0680), tensor(-0.0084), tensor(0.11...</td>\n    </tr>\n    <tr>\n      <th>23</th>\n      <td>1</td>\n      <td>chemical reactions</td>\n      <td>3534258</td>\n      <td>[tensor(101), tensor(1), tensor(5072), tensor(...</td>\n      <td>[[tensor(0.0680), tensor(-0.0084), tensor(0.11...</td>\n    </tr>\n    <tr>\n      <th>24</th>\n      <td>1</td>\n      <td>chemical reactions</td>\n      <td>7070513</td>\n      <td>[tensor(101), tensor(1), tensor(5072), tensor(...</td>\n      <td>[[tensor(0.0680), tensor(-0.0084), tensor(0.11...</td>\n    </tr>\n    <tr>\n      <th>25</th>\n      <td>1</td>\n      <td>chemical reactions</td>\n      <td>3373235</td>\n      <td>[tensor(101), tensor(1), tensor(5072), tensor(...</td>\n      <td>[[tensor(0.0680), tensor(-0.0084), tensor(0.11...</td>\n    </tr>\n    <tr>\n      <th>26</th>\n      <td>1</td>\n      <td>chemical reactions</td>\n      <td>2765749</td>\n      <td>[tensor(101), tensor(1), tensor(5072), tensor(...</td>\n      <td>[[tensor(0.0680), tensor(-0.0084), tensor(0.11...</td>\n    </tr>\n    <tr>\n      <th>27</th>\n      <td>1</td>\n      <td>chemical reactions</td>\n      <td>1074102</td>\n      <td>[tensor(101), tensor(1), tensor(5072), tensor(...</td>\n      <td>[[tensor(0.0680), tensor(-0.0084), tensor(0.11...</td>\n    </tr>\n    <tr>\n      <th>28</th>\n      <td>1</td>\n      <td>chemical reactions</td>\n      <td>1525431</td>\n      <td>[tensor(101), tensor(1), tensor(5072), tensor(...</td>\n      <td>[[tensor(0.0680), tensor(-0.0084), tensor(0.11...</td>\n    </tr>\n    <tr>\n      <th>29</th>\n      <td>1</td>\n      <td>chemical reactions</td>\n      <td>7981624</td>\n      <td>[tensor(101), tensor(1), tensor(5072), tensor(...</td>\n      <td>[[tensor(0.0680), tensor(-0.0084), tensor(0.11...</td>\n    </tr>\n    <tr>\n      <th>30</th>\n      <td>1</td>\n      <td>chemical reactions</td>\n      <td>1074097</td>\n      <td>[tensor(101), tensor(1), tensor(5072), tensor(...</td>\n      <td>[[tensor(0.0680), tensor(-0.0084), tensor(0.11...</td>\n    </tr>\n    <tr>\n      <th>31</th>\n      <td>1</td>\n      <td>chemical reactions</td>\n      <td>1406142</td>\n      <td>[tensor(101), tensor(1), tensor(5072), tensor(...</td>\n      <td>[[tensor(0.0680), tensor(-0.0084), tensor(0.11...</td>\n    </tr>\n    <tr>\n      <th>32</th>\n      <td>1</td>\n      <td>chemical reactions</td>\n      <td>6295615</td>\n      <td>[tensor(101), tensor(1), tensor(5072), tensor(...</td>\n      <td>[[tensor(0.0680), tensor(-0.0084), tensor(0.11...</td>\n    </tr>\n    <tr>\n      <th>33</th>\n      <td>1</td>\n      <td>chemical reactions</td>\n      <td>742208</td>\n      <td>[tensor(101), tensor(1), tensor(5072), tensor(...</td>\n      <td>[[tensor(0.0680), tensor(-0.0084), tensor(0.11...</td>\n    </tr>\n    <tr>\n      <th>34</th>\n      <td>1</td>\n      <td>chemical reactions</td>\n      <td>742206</td>\n      <td>[tensor(101), tensor(1), tensor(5072), tensor(...</td>\n      <td>[[tensor(0.0680), tensor(-0.0084), tensor(0.11...</td>\n    </tr>\n    <tr>\n      <th>35</th>\n      <td>1</td>\n      <td>chemical reactions</td>\n      <td>742210</td>\n      <td>[tensor(101), tensor(1), tensor(5072), tensor(...</td>\n      <td>[[tensor(0.0680), tensor(-0.0084), tensor(0.11...</td>\n    </tr>\n    <tr>\n      <th>36</th>\n      <td>1</td>\n      <td>chemical reactions</td>\n      <td>4748867</td>\n      <td>[tensor(101), tensor(1), tensor(5072), tensor(...</td>\n      <td>[[tensor(0.0680), tensor(-0.0084), tensor(0.11...</td>\n    </tr>\n    <tr>\n      <th>37</th>\n      <td>1</td>\n      <td>chemical reactions</td>\n      <td>5913794</td>\n      <td>[tensor(101), tensor(1), tensor(5072), tensor(...</td>\n      <td>[[tensor(0.0680), tensor(-0.0084), tensor(0.11...</td>\n    </tr>\n    <tr>\n      <th>38</th>\n      <td>1</td>\n      <td>chemical reactions</td>\n      <td>6575303</td>\n      <td>[tensor(101), tensor(1), tensor(5072), tensor(...</td>\n      <td>[[tensor(0.0680), tensor(-0.0084), tensor(0.11...</td>\n    </tr>\n    <tr>\n      <th>39</th>\n      <td>1</td>\n      <td>chemical reactions</td>\n      <td>8032459</td>\n      <td>[tensor(101), tensor(1), tensor(5072), tensor(...</td>\n      <td>[[tensor(0.0680), tensor(-0.0084), tensor(0.11...</td>\n    </tr>\n    <tr>\n      <th>40</th>\n      <td>1</td>\n      <td>chemical reactions</td>\n      <td>793814</td>\n      <td>[tensor(101), tensor(1), tensor(5072), tensor(...</td>\n      <td>[[tensor(0.0680), tensor(-0.0084), tensor(0.11...</td>\n    </tr>\n    <tr>\n      <th>41</th>\n      <td>1</td>\n      <td>chemical reactions</td>\n      <td>5453527</td>\n      <td>[tensor(101), tensor(1), tensor(5072), tensor(...</td>\n      <td>[[tensor(0.0680), tensor(-0.0084), tensor(0.11...</td>\n    </tr>\n    <tr>\n      <th>42</th>\n      <td>1</td>\n      <td>chemical reactions</td>\n      <td>1420159</td>\n      <td>[tensor(101), tensor(1), tensor(5072), tensor(...</td>\n      <td>[[tensor(0.0680), tensor(-0.0084), tensor(0.11...</td>\n    </tr>\n    <tr>\n      <th>43</th>\n      <td>1</td>\n      <td>chemical reactions</td>\n      <td>6260311</td>\n      <td>[tensor(101), tensor(1), tensor(5072), tensor(...</td>\n      <td>[[tensor(0.0680), tensor(-0.0084), tensor(0.11...</td>\n    </tr>\n    <tr>\n      <th>44</th>\n      <td>1</td>\n      <td>chemical reactions</td>\n      <td>203234</td>\n      <td>[tensor(101), tensor(1), tensor(5072), tensor(...</td>\n      <td>[[tensor(0.0680), tensor(-0.0084), tensor(0.11...</td>\n    </tr>\n    <tr>\n      <th>45</th>\n      <td>1</td>\n      <td>chemical reactions</td>\n      <td>203236</td>\n      <td>[tensor(101), tensor(1), tensor(5072), tensor(...</td>\n      <td>[[tensor(0.0680), tensor(-0.0084), tensor(0.11...</td>\n    </tr>\n    <tr>\n      <th>46</th>\n      <td>1</td>\n      <td>chemical reactions</td>\n      <td>2711269</td>\n      <td>[tensor(101), tensor(1), tensor(5072), tensor(...</td>\n      <td>[[tensor(0.0680), tensor(-0.0084), tensor(0.11...</td>\n    </tr>\n    <tr>\n      <th>47</th>\n      <td>1</td>\n      <td>chemical reactions</td>\n      <td>8740072</td>\n      <td>[tensor(101), tensor(1), tensor(5072), tensor(...</td>\n      <td>[[tensor(0.0680), tensor(-0.0084), tensor(0.11...</td>\n    </tr>\n    <tr>\n      <th>48</th>\n      <td>1</td>\n      <td>chemical reactions</td>\n      <td>4095848</td>\n      <td>[tensor(101), tensor(1), tensor(5072), tensor(...</td>\n      <td>[[tensor(0.0680), tensor(-0.0084), tensor(0.11...</td>\n    </tr>\n    <tr>\n      <th>49</th>\n      <td>1</td>\n      <td>chemical reactions</td>\n      <td>129901</td>\n      <td>[tensor(101), tensor(1), tensor(5072), tensor(...</td>\n      <td>[[tensor(0.0680), tensor(-0.0084), tensor(0.11...</td>\n    </tr>\n    <tr>\n      <th>50</th>\n      <td>1</td>\n      <td>chemical reactions</td>\n      <td>5037421</td>\n      <td>[tensor(101), tensor(1), tensor(5072), tensor(...</td>\n      <td>[[tensor(0.0680), tensor(-0.0084), tensor(0.11...</td>\n    </tr>\n    <tr>\n      <th>51</th>\n      <td>1</td>\n      <td>chemical reactions</td>\n      <td>129904</td>\n      <td>[tensor(101), tensor(1), tensor(5072), tensor(...</td>\n      <td>[[tensor(0.0680), tensor(-0.0084), tensor(0.11...</td>\n    </tr>\n    <tr>\n      <th>52</th>\n      <td>1</td>\n      <td>chemical reactions</td>\n      <td>8311152</td>\n      <td>[tensor(101), tensor(1), tensor(5072), tensor(...</td>\n      <td>[[tensor(0.0680), tensor(-0.0084), tensor(0.11...</td>\n    </tr>\n    <tr>\n      <th>53</th>\n      <td>1</td>\n      <td>chemical reactions</td>\n      <td>392947</td>\n      <td>[tensor(101), tensor(1), tensor(5072), tensor(...</td>\n      <td>[[tensor(0.0680), tensor(-0.0084), tensor(0.11...</td>\n    </tr>\n    <tr>\n      <th>54</th>\n      <td>1</td>\n      <td>chemical reactions</td>\n      <td>1473396</td>\n      <td>[tensor(101), tensor(1), tensor(5072), tensor(...</td>\n      <td>[[tensor(0.0680), tensor(-0.0084), tensor(0.11...</td>\n    </tr>\n    <tr>\n      <th>55</th>\n      <td>1</td>\n      <td>chemical reactions</td>\n      <td>4466936</td>\n      <td>[tensor(101), tensor(1), tensor(5072), tensor(...</td>\n      <td>[[tensor(0.0680), tensor(-0.0084), tensor(0.11...</td>\n    </tr>\n    <tr>\n      <th>56</th>\n      <td>1</td>\n      <td>chemical reactions</td>\n      <td>2521081</td>\n      <td>[tensor(101), tensor(1), tensor(5072), tensor(...</td>\n      <td>[[tensor(0.0680), tensor(-0.0084), tensor(0.11...</td>\n    </tr>\n    <tr>\n      <th>57</th>\n      <td>1</td>\n      <td>chemical reactions</td>\n      <td>7575551</td>\n      <td>[tensor(101), tensor(1), tensor(5072), tensor(...</td>\n      <td>[[tensor(0.0680), tensor(-0.0084), tensor(0.11...</td>\n    </tr>\n  </tbody>\n</table>\n</div>"
     },
     "metadata": {},
     "execution_count": 5
    }
   ],
   "source": [
    "(pytcolbert.query_encoder() >> pytcolbert.set_retrieve(query_encoded=True, faiss_depth=10))(pt.new.queries(\"chemical reactions\"))"
   ]
  },
  {
   "cell_type": "code",
   "execution_count": 6,
   "metadata": {},
   "outputs": [
    {
     "output_type": "stream",
     "name": "stderr",
     "text": [
      "0q [00:00, ?q/s][Feb 20, 17:50:50] #> Search in batches with faiss. \t\t Q.size() = torch.Size([1, 32, 128]), Q_faiss.size() = torch.Size([32, 128])\n",
      "[Feb 20, 17:50:50] #> Searching from 0 to 32...\n",
      "[Feb 20, 17:50:50] #> Lookup the PIDs..\n",
      "[Feb 20, 17:50:50] #> Converting to a list [shape = torch.Size([1, 320])]..\n",
      "[Feb 20, 17:50:50] #> Removing duplicates (in parallel if large enough)..\n",
      "[Feb 20, 17:50:50] #> Done with embedding_ids_to_pids().\n",
      "1q [00:00,  8.23q/s]\n",
      "qid 1 retrieved docs 58\n"
     ]
    },
    {
     "output_type": "execute_result",
     "data": {
      "text/plain": [
       "   qid               query    docno  \\\n",
       "0    1  chemical reactions  7575552   \n",
       "1    1  chemical reactions  2823040   \n",
       "2    1  chemical reactions  5237777   \n",
       "3    1  chemical reactions  5897617   \n",
       "4    1  chemical reactions  5897619   \n",
       "5    1  chemical reactions   467988   \n",
       "6    1  chemical reactions   661396   \n",
       "7    1  chemical reactions  7203473   \n",
       "8    1  chemical reactions   973462   \n",
       "9    1  chemical reactions  5182876   \n",
       "10   1  chemical reactions  1137181   \n",
       "11   1  chemical reactions  1218078   \n",
       "12   1  chemical reactions  8572191   \n",
       "13   1  chemical reactions  1238175   \n",
       "14   1  chemical reactions  7605154   \n",
       "15   1  chemical reactions  1833252   \n",
       "16   1  chemical reactions  1833253   \n",
       "17   1  chemical reactions  3395621   \n",
       "18   1  chemical reactions  4721960   \n",
       "19   1  chemical reactions  6056488   \n",
       "20   1  chemical reactions  5143339   \n",
       "21   1  chemical reactions  5143342   \n",
       "22   1  chemical reactions  1525425   \n",
       "23   1  chemical reactions  3534258   \n",
       "24   1  chemical reactions  7070513   \n",
       "25   1  chemical reactions  3373235   \n",
       "26   1  chemical reactions  2765749   \n",
       "27   1  chemical reactions  1074102   \n",
       "28   1  chemical reactions  1525431   \n",
       "29   1  chemical reactions  7981624   \n",
       "30   1  chemical reactions  1074097   \n",
       "31   1  chemical reactions  1406142   \n",
       "32   1  chemical reactions  6295615   \n",
       "33   1  chemical reactions   742208   \n",
       "34   1  chemical reactions   742206   \n",
       "35   1  chemical reactions   742210   \n",
       "36   1  chemical reactions  4748867   \n",
       "37   1  chemical reactions  5913794   \n",
       "38   1  chemical reactions  6575303   \n",
       "39   1  chemical reactions  8032459   \n",
       "40   1  chemical reactions   793814   \n",
       "41   1  chemical reactions  5453527   \n",
       "42   1  chemical reactions  1420159   \n",
       "43   1  chemical reactions  6260311   \n",
       "44   1  chemical reactions   203234   \n",
       "45   1  chemical reactions   203236   \n",
       "46   1  chemical reactions  2711269   \n",
       "47   1  chemical reactions  8740072   \n",
       "48   1  chemical reactions  4095848   \n",
       "49   1  chemical reactions   129901   \n",
       "50   1  chemical reactions  5037421   \n",
       "51   1  chemical reactions   129904   \n",
       "52   1  chemical reactions  8311152   \n",
       "53   1  chemical reactions   392947   \n",
       "54   1  chemical reactions  1473396   \n",
       "55   1  chemical reactions  4466936   \n",
       "56   1  chemical reactions  2521081   \n",
       "57   1  chemical reactions  7575551   \n",
       "\n",
       "                                           query_toks  \\\n",
       "0   [tensor(101), tensor(1), tensor(5072), tensor(...   \n",
       "1   [tensor(101), tensor(1), tensor(5072), tensor(...   \n",
       "2   [tensor(101), tensor(1), tensor(5072), tensor(...   \n",
       "3   [tensor(101), tensor(1), tensor(5072), tensor(...   \n",
       "4   [tensor(101), tensor(1), tensor(5072), tensor(...   \n",
       "5   [tensor(101), tensor(1), tensor(5072), tensor(...   \n",
       "6   [tensor(101), tensor(1), tensor(5072), tensor(...   \n",
       "7   [tensor(101), tensor(1), tensor(5072), tensor(...   \n",
       "8   [tensor(101), tensor(1), tensor(5072), tensor(...   \n",
       "9   [tensor(101), tensor(1), tensor(5072), tensor(...   \n",
       "10  [tensor(101), tensor(1), tensor(5072), tensor(...   \n",
       "11  [tensor(101), tensor(1), tensor(5072), tensor(...   \n",
       "12  [tensor(101), tensor(1), tensor(5072), tensor(...   \n",
       "13  [tensor(101), tensor(1), tensor(5072), tensor(...   \n",
       "14  [tensor(101), tensor(1), tensor(5072), tensor(...   \n",
       "15  [tensor(101), tensor(1), tensor(5072), tensor(...   \n",
       "16  [tensor(101), tensor(1), tensor(5072), tensor(...   \n",
       "17  [tensor(101), tensor(1), tensor(5072), tensor(...   \n",
       "18  [tensor(101), tensor(1), tensor(5072), tensor(...   \n",
       "19  [tensor(101), tensor(1), tensor(5072), tensor(...   \n",
       "20  [tensor(101), tensor(1), tensor(5072), tensor(...   \n",
       "21  [tensor(101), tensor(1), tensor(5072), tensor(...   \n",
       "22  [tensor(101), tensor(1), tensor(5072), tensor(...   \n",
       "23  [tensor(101), tensor(1), tensor(5072), tensor(...   \n",
       "24  [tensor(101), tensor(1), tensor(5072), tensor(...   \n",
       "25  [tensor(101), tensor(1), tensor(5072), tensor(...   \n",
       "26  [tensor(101), tensor(1), tensor(5072), tensor(...   \n",
       "27  [tensor(101), tensor(1), tensor(5072), tensor(...   \n",
       "28  [tensor(101), tensor(1), tensor(5072), tensor(...   \n",
       "29  [tensor(101), tensor(1), tensor(5072), tensor(...   \n",
       "30  [tensor(101), tensor(1), tensor(5072), tensor(...   \n",
       "31  [tensor(101), tensor(1), tensor(5072), tensor(...   \n",
       "32  [tensor(101), tensor(1), tensor(5072), tensor(...   \n",
       "33  [tensor(101), tensor(1), tensor(5072), tensor(...   \n",
       "34  [tensor(101), tensor(1), tensor(5072), tensor(...   \n",
       "35  [tensor(101), tensor(1), tensor(5072), tensor(...   \n",
       "36  [tensor(101), tensor(1), tensor(5072), tensor(...   \n",
       "37  [tensor(101), tensor(1), tensor(5072), tensor(...   \n",
       "38  [tensor(101), tensor(1), tensor(5072), tensor(...   \n",
       "39  [tensor(101), tensor(1), tensor(5072), tensor(...   \n",
       "40  [tensor(101), tensor(1), tensor(5072), tensor(...   \n",
       "41  [tensor(101), tensor(1), tensor(5072), tensor(...   \n",
       "42  [tensor(101), tensor(1), tensor(5072), tensor(...   \n",
       "43  [tensor(101), tensor(1), tensor(5072), tensor(...   \n",
       "44  [tensor(101), tensor(1), tensor(5072), tensor(...   \n",
       "45  [tensor(101), tensor(1), tensor(5072), tensor(...   \n",
       "46  [tensor(101), tensor(1), tensor(5072), tensor(...   \n",
       "47  [tensor(101), tensor(1), tensor(5072), tensor(...   \n",
       "48  [tensor(101), tensor(1), tensor(5072), tensor(...   \n",
       "49  [tensor(101), tensor(1), tensor(5072), tensor(...   \n",
       "50  [tensor(101), tensor(1), tensor(5072), tensor(...   \n",
       "51  [tensor(101), tensor(1), tensor(5072), tensor(...   \n",
       "52  [tensor(101), tensor(1), tensor(5072), tensor(...   \n",
       "53  [tensor(101), tensor(1), tensor(5072), tensor(...   \n",
       "54  [tensor(101), tensor(1), tensor(5072), tensor(...   \n",
       "55  [tensor(101), tensor(1), tensor(5072), tensor(...   \n",
       "56  [tensor(101), tensor(1), tensor(5072), tensor(...   \n",
       "57  [tensor(101), tensor(1), tensor(5072), tensor(...   \n",
       "\n",
       "                                           query_embs  \n",
       "0   [[tensor(0.0680), tensor(-0.0084), tensor(0.11...  \n",
       "1   [[tensor(0.0680), tensor(-0.0084), tensor(0.11...  \n",
       "2   [[tensor(0.0680), tensor(-0.0084), tensor(0.11...  \n",
       "3   [[tensor(0.0680), tensor(-0.0084), tensor(0.11...  \n",
       "4   [[tensor(0.0680), tensor(-0.0084), tensor(0.11...  \n",
       "5   [[tensor(0.0680), tensor(-0.0084), tensor(0.11...  \n",
       "6   [[tensor(0.0680), tensor(-0.0084), tensor(0.11...  \n",
       "7   [[tensor(0.0680), tensor(-0.0084), tensor(0.11...  \n",
       "8   [[tensor(0.0680), tensor(-0.0084), tensor(0.11...  \n",
       "9   [[tensor(0.0680), tensor(-0.0084), tensor(0.11...  \n",
       "10  [[tensor(0.0680), tensor(-0.0084), tensor(0.11...  \n",
       "11  [[tensor(0.0680), tensor(-0.0084), tensor(0.11...  \n",
       "12  [[tensor(0.0680), tensor(-0.0084), tensor(0.11...  \n",
       "13  [[tensor(0.0680), tensor(-0.0084), tensor(0.11...  \n",
       "14  [[tensor(0.0680), tensor(-0.0084), tensor(0.11...  \n",
       "15  [[tensor(0.0680), tensor(-0.0084), tensor(0.11...  \n",
       "16  [[tensor(0.0680), tensor(-0.0084), tensor(0.11...  \n",
       "17  [[tensor(0.0680), tensor(-0.0084), tensor(0.11...  \n",
       "18  [[tensor(0.0680), tensor(-0.0084), tensor(0.11...  \n",
       "19  [[tensor(0.0680), tensor(-0.0084), tensor(0.11...  \n",
       "20  [[tensor(0.0680), tensor(-0.0084), tensor(0.11...  \n",
       "21  [[tensor(0.0680), tensor(-0.0084), tensor(0.11...  \n",
       "22  [[tensor(0.0680), tensor(-0.0084), tensor(0.11...  \n",
       "23  [[tensor(0.0680), tensor(-0.0084), tensor(0.11...  \n",
       "24  [[tensor(0.0680), tensor(-0.0084), tensor(0.11...  \n",
       "25  [[tensor(0.0680), tensor(-0.0084), tensor(0.11...  \n",
       "26  [[tensor(0.0680), tensor(-0.0084), tensor(0.11...  \n",
       "27  [[tensor(0.0680), tensor(-0.0084), tensor(0.11...  \n",
       "28  [[tensor(0.0680), tensor(-0.0084), tensor(0.11...  \n",
       "29  [[tensor(0.0680), tensor(-0.0084), tensor(0.11...  \n",
       "30  [[tensor(0.0680), tensor(-0.0084), tensor(0.11...  \n",
       "31  [[tensor(0.0680), tensor(-0.0084), tensor(0.11...  \n",
       "32  [[tensor(0.0680), tensor(-0.0084), tensor(0.11...  \n",
       "33  [[tensor(0.0680), tensor(-0.0084), tensor(0.11...  \n",
       "34  [[tensor(0.0680), tensor(-0.0084), tensor(0.11...  \n",
       "35  [[tensor(0.0680), tensor(-0.0084), tensor(0.11...  \n",
       "36  [[tensor(0.0680), tensor(-0.0084), tensor(0.11...  \n",
       "37  [[tensor(0.0680), tensor(-0.0084), tensor(0.11...  \n",
       "38  [[tensor(0.0680), tensor(-0.0084), tensor(0.11...  \n",
       "39  [[tensor(0.0680), tensor(-0.0084), tensor(0.11...  \n",
       "40  [[tensor(0.0680), tensor(-0.0084), tensor(0.11...  \n",
       "41  [[tensor(0.0680), tensor(-0.0084), tensor(0.11...  \n",
       "42  [[tensor(0.0680), tensor(-0.0084), tensor(0.11...  \n",
       "43  [[tensor(0.0680), tensor(-0.0084), tensor(0.11...  \n",
       "44  [[tensor(0.0680), tensor(-0.0084), tensor(0.11...  \n",
       "45  [[tensor(0.0680), tensor(-0.0084), tensor(0.11...  \n",
       "46  [[tensor(0.0680), tensor(-0.0084), tensor(0.11...  \n",
       "47  [[tensor(0.0680), tensor(-0.0084), tensor(0.11...  \n",
       "48  [[tensor(0.0680), tensor(-0.0084), tensor(0.11...  \n",
       "49  [[tensor(0.0680), tensor(-0.0084), tensor(0.11...  \n",
       "50  [[tensor(0.0680), tensor(-0.0084), tensor(0.11...  \n",
       "51  [[tensor(0.0680), tensor(-0.0084), tensor(0.11...  \n",
       "52  [[tensor(0.0680), tensor(-0.0084), tensor(0.11...  \n",
       "53  [[tensor(0.0680), tensor(-0.0084), tensor(0.11...  \n",
       "54  [[tensor(0.0680), tensor(-0.0084), tensor(0.11...  \n",
       "55  [[tensor(0.0680), tensor(-0.0084), tensor(0.11...  \n",
       "56  [[tensor(0.0680), tensor(-0.0084), tensor(0.11...  \n",
       "57  [[tensor(0.0680), tensor(-0.0084), tensor(0.11...  "
      ],
      "text/html": "<div>\n<style scoped>\n    .dataframe tbody tr th:only-of-type {\n        vertical-align: middle;\n    }\n\n    .dataframe tbody tr th {\n        vertical-align: top;\n    }\n\n    .dataframe thead th {\n        text-align: right;\n    }\n</style>\n<table border=\"1\" class=\"dataframe\">\n  <thead>\n    <tr style=\"text-align: right;\">\n      <th></th>\n      <th>qid</th>\n      <th>query</th>\n      <th>docno</th>\n      <th>query_toks</th>\n      <th>query_embs</th>\n    </tr>\n  </thead>\n  <tbody>\n    <tr>\n      <th>0</th>\n      <td>1</td>\n      <td>chemical reactions</td>\n      <td>7575552</td>\n      <td>[tensor(101), tensor(1), tensor(5072), tensor(...</td>\n      <td>[[tensor(0.0680), tensor(-0.0084), tensor(0.11...</td>\n    </tr>\n    <tr>\n      <th>1</th>\n      <td>1</td>\n      <td>chemical reactions</td>\n      <td>2823040</td>\n      <td>[tensor(101), tensor(1), tensor(5072), tensor(...</td>\n      <td>[[tensor(0.0680), tensor(-0.0084), tensor(0.11...</td>\n    </tr>\n    <tr>\n      <th>2</th>\n      <td>1</td>\n      <td>chemical reactions</td>\n      <td>5237777</td>\n      <td>[tensor(101), tensor(1), tensor(5072), tensor(...</td>\n      <td>[[tensor(0.0680), tensor(-0.0084), tensor(0.11...</td>\n    </tr>\n    <tr>\n      <th>3</th>\n      <td>1</td>\n      <td>chemical reactions</td>\n      <td>5897617</td>\n      <td>[tensor(101), tensor(1), tensor(5072), tensor(...</td>\n      <td>[[tensor(0.0680), tensor(-0.0084), tensor(0.11...</td>\n    </tr>\n    <tr>\n      <th>4</th>\n      <td>1</td>\n      <td>chemical reactions</td>\n      <td>5897619</td>\n      <td>[tensor(101), tensor(1), tensor(5072), tensor(...</td>\n      <td>[[tensor(0.0680), tensor(-0.0084), tensor(0.11...</td>\n    </tr>\n    <tr>\n      <th>5</th>\n      <td>1</td>\n      <td>chemical reactions</td>\n      <td>467988</td>\n      <td>[tensor(101), tensor(1), tensor(5072), tensor(...</td>\n      <td>[[tensor(0.0680), tensor(-0.0084), tensor(0.11...</td>\n    </tr>\n    <tr>\n      <th>6</th>\n      <td>1</td>\n      <td>chemical reactions</td>\n      <td>661396</td>\n      <td>[tensor(101), tensor(1), tensor(5072), tensor(...</td>\n      <td>[[tensor(0.0680), tensor(-0.0084), tensor(0.11...</td>\n    </tr>\n    <tr>\n      <th>7</th>\n      <td>1</td>\n      <td>chemical reactions</td>\n      <td>7203473</td>\n      <td>[tensor(101), tensor(1), tensor(5072), tensor(...</td>\n      <td>[[tensor(0.0680), tensor(-0.0084), tensor(0.11...</td>\n    </tr>\n    <tr>\n      <th>8</th>\n      <td>1</td>\n      <td>chemical reactions</td>\n      <td>973462</td>\n      <td>[tensor(101), tensor(1), tensor(5072), tensor(...</td>\n      <td>[[tensor(0.0680), tensor(-0.0084), tensor(0.11...</td>\n    </tr>\n    <tr>\n      <th>9</th>\n      <td>1</td>\n      <td>chemical reactions</td>\n      <td>5182876</td>\n      <td>[tensor(101), tensor(1), tensor(5072), tensor(...</td>\n      <td>[[tensor(0.0680), tensor(-0.0084), tensor(0.11...</td>\n    </tr>\n    <tr>\n      <th>10</th>\n      <td>1</td>\n      <td>chemical reactions</td>\n      <td>1137181</td>\n      <td>[tensor(101), tensor(1), tensor(5072), tensor(...</td>\n      <td>[[tensor(0.0680), tensor(-0.0084), tensor(0.11...</td>\n    </tr>\n    <tr>\n      <th>11</th>\n      <td>1</td>\n      <td>chemical reactions</td>\n      <td>1218078</td>\n      <td>[tensor(101), tensor(1), tensor(5072), tensor(...</td>\n      <td>[[tensor(0.0680), tensor(-0.0084), tensor(0.11...</td>\n    </tr>\n    <tr>\n      <th>12</th>\n      <td>1</td>\n      <td>chemical reactions</td>\n      <td>8572191</td>\n      <td>[tensor(101), tensor(1), tensor(5072), tensor(...</td>\n      <td>[[tensor(0.0680), tensor(-0.0084), tensor(0.11...</td>\n    </tr>\n    <tr>\n      <th>13</th>\n      <td>1</td>\n      <td>chemical reactions</td>\n      <td>1238175</td>\n      <td>[tensor(101), tensor(1), tensor(5072), tensor(...</td>\n      <td>[[tensor(0.0680), tensor(-0.0084), tensor(0.11...</td>\n    </tr>\n    <tr>\n      <th>14</th>\n      <td>1</td>\n      <td>chemical reactions</td>\n      <td>7605154</td>\n      <td>[tensor(101), tensor(1), tensor(5072), tensor(...</td>\n      <td>[[tensor(0.0680), tensor(-0.0084), tensor(0.11...</td>\n    </tr>\n    <tr>\n      <th>15</th>\n      <td>1</td>\n      <td>chemical reactions</td>\n      <td>1833252</td>\n      <td>[tensor(101), tensor(1), tensor(5072), tensor(...</td>\n      <td>[[tensor(0.0680), tensor(-0.0084), tensor(0.11...</td>\n    </tr>\n    <tr>\n      <th>16</th>\n      <td>1</td>\n      <td>chemical reactions</td>\n      <td>1833253</td>\n      <td>[tensor(101), tensor(1), tensor(5072), tensor(...</td>\n      <td>[[tensor(0.0680), tensor(-0.0084), tensor(0.11...</td>\n    </tr>\n    <tr>\n      <th>17</th>\n      <td>1</td>\n      <td>chemical reactions</td>\n      <td>3395621</td>\n      <td>[tensor(101), tensor(1), tensor(5072), tensor(...</td>\n      <td>[[tensor(0.0680), tensor(-0.0084), tensor(0.11...</td>\n    </tr>\n    <tr>\n      <th>18</th>\n      <td>1</td>\n      <td>chemical reactions</td>\n      <td>4721960</td>\n      <td>[tensor(101), tensor(1), tensor(5072), tensor(...</td>\n      <td>[[tensor(0.0680), tensor(-0.0084), tensor(0.11...</td>\n    </tr>\n    <tr>\n      <th>19</th>\n      <td>1</td>\n      <td>chemical reactions</td>\n      <td>6056488</td>\n      <td>[tensor(101), tensor(1), tensor(5072), tensor(...</td>\n      <td>[[tensor(0.0680), tensor(-0.0084), tensor(0.11...</td>\n    </tr>\n    <tr>\n      <th>20</th>\n      <td>1</td>\n      <td>chemical reactions</td>\n      <td>5143339</td>\n      <td>[tensor(101), tensor(1), tensor(5072), tensor(...</td>\n      <td>[[tensor(0.0680), tensor(-0.0084), tensor(0.11...</td>\n    </tr>\n    <tr>\n      <th>21</th>\n      <td>1</td>\n      <td>chemical reactions</td>\n      <td>5143342</td>\n      <td>[tensor(101), tensor(1), tensor(5072), tensor(...</td>\n      <td>[[tensor(0.0680), tensor(-0.0084), tensor(0.11...</td>\n    </tr>\n    <tr>\n      <th>22</th>\n      <td>1</td>\n      <td>chemical reactions</td>\n      <td>1525425</td>\n      <td>[tensor(101), tensor(1), tensor(5072), tensor(...</td>\n      <td>[[tensor(0.0680), tensor(-0.0084), tensor(0.11...</td>\n    </tr>\n    <tr>\n      <th>23</th>\n      <td>1</td>\n      <td>chemical reactions</td>\n      <td>3534258</td>\n      <td>[tensor(101), tensor(1), tensor(5072), tensor(...</td>\n      <td>[[tensor(0.0680), tensor(-0.0084), tensor(0.11...</td>\n    </tr>\n    <tr>\n      <th>24</th>\n      <td>1</td>\n      <td>chemical reactions</td>\n      <td>7070513</td>\n      <td>[tensor(101), tensor(1), tensor(5072), tensor(...</td>\n      <td>[[tensor(0.0680), tensor(-0.0084), tensor(0.11...</td>\n    </tr>\n    <tr>\n      <th>25</th>\n      <td>1</td>\n      <td>chemical reactions</td>\n      <td>3373235</td>\n      <td>[tensor(101), tensor(1), tensor(5072), tensor(...</td>\n      <td>[[tensor(0.0680), tensor(-0.0084), tensor(0.11...</td>\n    </tr>\n    <tr>\n      <th>26</th>\n      <td>1</td>\n      <td>chemical reactions</td>\n      <td>2765749</td>\n      <td>[tensor(101), tensor(1), tensor(5072), tensor(...</td>\n      <td>[[tensor(0.0680), tensor(-0.0084), tensor(0.11...</td>\n    </tr>\n    <tr>\n      <th>27</th>\n      <td>1</td>\n      <td>chemical reactions</td>\n      <td>1074102</td>\n      <td>[tensor(101), tensor(1), tensor(5072), tensor(...</td>\n      <td>[[tensor(0.0680), tensor(-0.0084), tensor(0.11...</td>\n    </tr>\n    <tr>\n      <th>28</th>\n      <td>1</td>\n      <td>chemical reactions</td>\n      <td>1525431</td>\n      <td>[tensor(101), tensor(1), tensor(5072), tensor(...</td>\n      <td>[[tensor(0.0680), tensor(-0.0084), tensor(0.11...</td>\n    </tr>\n    <tr>\n      <th>29</th>\n      <td>1</td>\n      <td>chemical reactions</td>\n      <td>7981624</td>\n      <td>[tensor(101), tensor(1), tensor(5072), tensor(...</td>\n      <td>[[tensor(0.0680), tensor(-0.0084), tensor(0.11...</td>\n    </tr>\n    <tr>\n      <th>30</th>\n      <td>1</td>\n      <td>chemical reactions</td>\n      <td>1074097</td>\n      <td>[tensor(101), tensor(1), tensor(5072), tensor(...</td>\n      <td>[[tensor(0.0680), tensor(-0.0084), tensor(0.11...</td>\n    </tr>\n    <tr>\n      <th>31</th>\n      <td>1</td>\n      <td>chemical reactions</td>\n      <td>1406142</td>\n      <td>[tensor(101), tensor(1), tensor(5072), tensor(...</td>\n      <td>[[tensor(0.0680), tensor(-0.0084), tensor(0.11...</td>\n    </tr>\n    <tr>\n      <th>32</th>\n      <td>1</td>\n      <td>chemical reactions</td>\n      <td>6295615</td>\n      <td>[tensor(101), tensor(1), tensor(5072), tensor(...</td>\n      <td>[[tensor(0.0680), tensor(-0.0084), tensor(0.11...</td>\n    </tr>\n    <tr>\n      <th>33</th>\n      <td>1</td>\n      <td>chemical reactions</td>\n      <td>742208</td>\n      <td>[tensor(101), tensor(1), tensor(5072), tensor(...</td>\n      <td>[[tensor(0.0680), tensor(-0.0084), tensor(0.11...</td>\n    </tr>\n    <tr>\n      <th>34</th>\n      <td>1</td>\n      <td>chemical reactions</td>\n      <td>742206</td>\n      <td>[tensor(101), tensor(1), tensor(5072), tensor(...</td>\n      <td>[[tensor(0.0680), tensor(-0.0084), tensor(0.11...</td>\n    </tr>\n    <tr>\n      <th>35</th>\n      <td>1</td>\n      <td>chemical reactions</td>\n      <td>742210</td>\n      <td>[tensor(101), tensor(1), tensor(5072), tensor(...</td>\n      <td>[[tensor(0.0680), tensor(-0.0084), tensor(0.11...</td>\n    </tr>\n    <tr>\n      <th>36</th>\n      <td>1</td>\n      <td>chemical reactions</td>\n      <td>4748867</td>\n      <td>[tensor(101), tensor(1), tensor(5072), tensor(...</td>\n      <td>[[tensor(0.0680), tensor(-0.0084), tensor(0.11...</td>\n    </tr>\n    <tr>\n      <th>37</th>\n      <td>1</td>\n      <td>chemical reactions</td>\n      <td>5913794</td>\n      <td>[tensor(101), tensor(1), tensor(5072), tensor(...</td>\n      <td>[[tensor(0.0680), tensor(-0.0084), tensor(0.11...</td>\n    </tr>\n    <tr>\n      <th>38</th>\n      <td>1</td>\n      <td>chemical reactions</td>\n      <td>6575303</td>\n      <td>[tensor(101), tensor(1), tensor(5072), tensor(...</td>\n      <td>[[tensor(0.0680), tensor(-0.0084), tensor(0.11...</td>\n    </tr>\n    <tr>\n      <th>39</th>\n      <td>1</td>\n      <td>chemical reactions</td>\n      <td>8032459</td>\n      <td>[tensor(101), tensor(1), tensor(5072), tensor(...</td>\n      <td>[[tensor(0.0680), tensor(-0.0084), tensor(0.11...</td>\n    </tr>\n    <tr>\n      <th>40</th>\n      <td>1</td>\n      <td>chemical reactions</td>\n      <td>793814</td>\n      <td>[tensor(101), tensor(1), tensor(5072), tensor(...</td>\n      <td>[[tensor(0.0680), tensor(-0.0084), tensor(0.11...</td>\n    </tr>\n    <tr>\n      <th>41</th>\n      <td>1</td>\n      <td>chemical reactions</td>\n      <td>5453527</td>\n      <td>[tensor(101), tensor(1), tensor(5072), tensor(...</td>\n      <td>[[tensor(0.0680), tensor(-0.0084), tensor(0.11...</td>\n    </tr>\n    <tr>\n      <th>42</th>\n      <td>1</td>\n      <td>chemical reactions</td>\n      <td>1420159</td>\n      <td>[tensor(101), tensor(1), tensor(5072), tensor(...</td>\n      <td>[[tensor(0.0680), tensor(-0.0084), tensor(0.11...</td>\n    </tr>\n    <tr>\n      <th>43</th>\n      <td>1</td>\n      <td>chemical reactions</td>\n      <td>6260311</td>\n      <td>[tensor(101), tensor(1), tensor(5072), tensor(...</td>\n      <td>[[tensor(0.0680), tensor(-0.0084), tensor(0.11...</td>\n    </tr>\n    <tr>\n      <th>44</th>\n      <td>1</td>\n      <td>chemical reactions</td>\n      <td>203234</td>\n      <td>[tensor(101), tensor(1), tensor(5072), tensor(...</td>\n      <td>[[tensor(0.0680), tensor(-0.0084), tensor(0.11...</td>\n    </tr>\n    <tr>\n      <th>45</th>\n      <td>1</td>\n      <td>chemical reactions</td>\n      <td>203236</td>\n      <td>[tensor(101), tensor(1), tensor(5072), tensor(...</td>\n      <td>[[tensor(0.0680), tensor(-0.0084), tensor(0.11...</td>\n    </tr>\n    <tr>\n      <th>46</th>\n      <td>1</td>\n      <td>chemical reactions</td>\n      <td>2711269</td>\n      <td>[tensor(101), tensor(1), tensor(5072), tensor(...</td>\n      <td>[[tensor(0.0680), tensor(-0.0084), tensor(0.11...</td>\n    </tr>\n    <tr>\n      <th>47</th>\n      <td>1</td>\n      <td>chemical reactions</td>\n      <td>8740072</td>\n      <td>[tensor(101), tensor(1), tensor(5072), tensor(...</td>\n      <td>[[tensor(0.0680), tensor(-0.0084), tensor(0.11...</td>\n    </tr>\n    <tr>\n      <th>48</th>\n      <td>1</td>\n      <td>chemical reactions</td>\n      <td>4095848</td>\n      <td>[tensor(101), tensor(1), tensor(5072), tensor(...</td>\n      <td>[[tensor(0.0680), tensor(-0.0084), tensor(0.11...</td>\n    </tr>\n    <tr>\n      <th>49</th>\n      <td>1</td>\n      <td>chemical reactions</td>\n      <td>129901</td>\n      <td>[tensor(101), tensor(1), tensor(5072), tensor(...</td>\n      <td>[[tensor(0.0680), tensor(-0.0084), tensor(0.11...</td>\n    </tr>\n    <tr>\n      <th>50</th>\n      <td>1</td>\n      <td>chemical reactions</td>\n      <td>5037421</td>\n      <td>[tensor(101), tensor(1), tensor(5072), tensor(...</td>\n      <td>[[tensor(0.0680), tensor(-0.0084), tensor(0.11...</td>\n    </tr>\n    <tr>\n      <th>51</th>\n      <td>1</td>\n      <td>chemical reactions</td>\n      <td>129904</td>\n      <td>[tensor(101), tensor(1), tensor(5072), tensor(...</td>\n      <td>[[tensor(0.0680), tensor(-0.0084), tensor(0.11...</td>\n    </tr>\n    <tr>\n      <th>52</th>\n      <td>1</td>\n      <td>chemical reactions</td>\n      <td>8311152</td>\n      <td>[tensor(101), tensor(1), tensor(5072), tensor(...</td>\n      <td>[[tensor(0.0680), tensor(-0.0084), tensor(0.11...</td>\n    </tr>\n    <tr>\n      <th>53</th>\n      <td>1</td>\n      <td>chemical reactions</td>\n      <td>392947</td>\n      <td>[tensor(101), tensor(1), tensor(5072), tensor(...</td>\n      <td>[[tensor(0.0680), tensor(-0.0084), tensor(0.11...</td>\n    </tr>\n    <tr>\n      <th>54</th>\n      <td>1</td>\n      <td>chemical reactions</td>\n      <td>1473396</td>\n      <td>[tensor(101), tensor(1), tensor(5072), tensor(...</td>\n      <td>[[tensor(0.0680), tensor(-0.0084), tensor(0.11...</td>\n    </tr>\n    <tr>\n      <th>55</th>\n      <td>1</td>\n      <td>chemical reactions</td>\n      <td>4466936</td>\n      <td>[tensor(101), tensor(1), tensor(5072), tensor(...</td>\n      <td>[[tensor(0.0680), tensor(-0.0084), tensor(0.11...</td>\n    </tr>\n    <tr>\n      <th>56</th>\n      <td>1</td>\n      <td>chemical reactions</td>\n      <td>2521081</td>\n      <td>[tensor(101), tensor(1), tensor(5072), tensor(...</td>\n      <td>[[tensor(0.0680), tensor(-0.0084), tensor(0.11...</td>\n    </tr>\n    <tr>\n      <th>57</th>\n      <td>1</td>\n      <td>chemical reactions</td>\n      <td>7575551</td>\n      <td>[tensor(101), tensor(1), tensor(5072), tensor(...</td>\n      <td>[[tensor(0.0680), tensor(-0.0084), tensor(0.11...</td>\n    </tr>\n  </tbody>\n</table>\n</div>"
     },
     "metadata": {},
     "execution_count": 6
    }
   ],
   "source": [
    " pytcolbert.set_retrieve(query_encoded=False, faiss_depth=10)(pt.new.queries(\"chemical reactions\"))"
   ]
  },
  {
   "cell_type": "code",
   "execution_count": 7,
   "metadata": {},
   "outputs": [
    {
     "output_type": "execute_result",
     "data": {
      "text/plain": [
       "  qid    docno  score  rank               query\n",
       "0   1  7575552      1     0  chemical reactions"
      ],
      "text/html": "<div>\n<style scoped>\n    .dataframe tbody tr th:only-of-type {\n        vertical-align: middle;\n    }\n\n    .dataframe tbody tr th {\n        vertical-align: top;\n    }\n\n    .dataframe thead th {\n        text-align: right;\n    }\n</style>\n<table border=\"1\" class=\"dataframe\">\n  <thead>\n    <tr style=\"text-align: right;\">\n      <th></th>\n      <th>qid</th>\n      <th>docno</th>\n      <th>score</th>\n      <th>rank</th>\n      <th>query</th>\n    </tr>\n  </thead>\n  <tbody>\n    <tr>\n      <th>0</th>\n      <td>1</td>\n      <td>7575552</td>\n      <td>1</td>\n      <td>0</td>\n      <td>chemical reactions</td>\n    </tr>\n  </tbody>\n</table>\n</div>"
     },
     "metadata": {},
     "execution_count": 7
    }
   ],
   "source": [
    "rankeddf = pt.new.ranked_documents([[1]],  qid=[\"1\"], docno=[[\"7575552\"]])\n",
    "rankeddf[\"query\"] = \"chemical reactions\"\n",
    "rankeddf"
   ]
  },
  {
   "cell_type": "code",
   "execution_count": 8,
   "metadata": {},
   "outputs": [
    {
     "output_type": "stream",
     "name": "stdout",
     "text": [
      "Loading reranking index, memtype=mmap\n",
      "lookups: 100%|██████████| 1/1 [00:00<00:00, 3209.11d/s]\n"
     ]
    },
    {
     "output_type": "execute_result",
     "data": {
      "text/plain": [
       "  qid    docno     score               query    docid  rank\n",
       "0   1  7575552  27.79443  chemical reactions  7575552     0"
      ],
      "text/html": "<div>\n<style scoped>\n    .dataframe tbody tr th:only-of-type {\n        vertical-align: middle;\n    }\n\n    .dataframe tbody tr th {\n        vertical-align: top;\n    }\n\n    .dataframe thead th {\n        text-align: right;\n    }\n</style>\n<table border=\"1\" class=\"dataframe\">\n  <thead>\n    <tr style=\"text-align: right;\">\n      <th></th>\n      <th>qid</th>\n      <th>docno</th>\n      <th>score</th>\n      <th>query</th>\n      <th>docid</th>\n      <th>rank</th>\n    </tr>\n  </thead>\n  <tbody>\n    <tr>\n      <th>0</th>\n      <td>1</td>\n      <td>7575552</td>\n      <td>27.79443</td>\n      <td>chemical reactions</td>\n      <td>7575552</td>\n      <td>0</td>\n    </tr>\n  </tbody>\n</table>\n</div>"
     },
     "metadata": {},
     "execution_count": 8
    }
   ],
   "source": [
    "pytcolbert.index_scorer()(rankeddf)"
   ]
  },
  {
   "cell_type": "code",
   "execution_count": 9,
   "metadata": {},
   "outputs": [
    {
     "output_type": "execute_result",
     "data": {
      "text/plain": [
       "    qid docno  score  rank                                  text  \\\n",
       "0  q100    d1      1     0  professor proton mixed the chemicals   \n",
       "1  q100    d2      1     1    chemical brothers played the music   \n",
       "\n",
       "                query  \n",
       "0  chemical reactions  \n",
       "1  chemical reactions  "
      ],
      "text/html": "<div>\n<style scoped>\n    .dataframe tbody tr th:only-of-type {\n        vertical-align: middle;\n    }\n\n    .dataframe tbody tr th {\n        vertical-align: top;\n    }\n\n    .dataframe thead th {\n        text-align: right;\n    }\n</style>\n<table border=\"1\" class=\"dataframe\">\n  <thead>\n    <tr style=\"text-align: right;\">\n      <th></th>\n      <th>qid</th>\n      <th>docno</th>\n      <th>score</th>\n      <th>rank</th>\n      <th>text</th>\n      <th>query</th>\n    </tr>\n  </thead>\n  <tbody>\n    <tr>\n      <th>0</th>\n      <td>q100</td>\n      <td>d1</td>\n      <td>1</td>\n      <td>0</td>\n      <td>professor proton mixed the chemicals</td>\n      <td>chemical reactions</td>\n    </tr>\n    <tr>\n      <th>1</th>\n      <td>q100</td>\n      <td>d2</td>\n      <td>1</td>\n      <td>1</td>\n      <td>chemical brothers played the music</td>\n      <td>chemical reactions</td>\n    </tr>\n  </tbody>\n</table>\n</div>"
     },
     "metadata": {},
     "execution_count": 9
    }
   ],
   "source": [
    "textdf = pt.new.ranked_documents([[1, 1]],  qid=[\"q100\"], docno=[[\"d1\", \"d2\"]])\n",
    "textdf[\"text\"]=[\"professor proton mixed the chemicals\", \"chemical brothers played the music\"]\n",
    "textdf[\"query\"]=\"chemical reactions\"\n",
    "textdf"
   ]
  },
  {
   "cell_type": "code",
   "execution_count": 10,
   "metadata": {},
   "outputs": [
    {
     "output_type": "stream",
     "name": "stdout",
     "text": [
      "docFromText on 2 documents\ntokens doc 0: 8\ntotal tokens 16\n"
     ]
    },
    {
     "output_type": "execute_result",
     "data": {
      "text/plain": [
       "    qid               query docno      score  rank\n",
       "0  q100  chemical reactions    d2  15.937386     0\n",
       "1  q100  chemical reactions    d1  12.798742     1"
      ],
      "text/html": "<div>\n<style scoped>\n    .dataframe tbody tr th:only-of-type {\n        vertical-align: middle;\n    }\n\n    .dataframe tbody tr th {\n        vertical-align: top;\n    }\n\n    .dataframe thead th {\n        text-align: right;\n    }\n</style>\n<table border=\"1\" class=\"dataframe\">\n  <thead>\n    <tr style=\"text-align: right;\">\n      <th></th>\n      <th>qid</th>\n      <th>query</th>\n      <th>docno</th>\n      <th>score</th>\n      <th>rank</th>\n    </tr>\n  </thead>\n  <tbody>\n    <tr>\n      <th>0</th>\n      <td>q100</td>\n      <td>chemical reactions</td>\n      <td>d2</td>\n      <td>15.937386</td>\n      <td>0</td>\n    </tr>\n    <tr>\n      <th>1</th>\n      <td>q100</td>\n      <td>chemical reactions</td>\n      <td>d1</td>\n      <td>12.798742</td>\n      <td>1</td>\n    </tr>\n  </tbody>\n</table>\n</div>"
     },
     "metadata": {},
     "execution_count": 10
    }
   ],
   "source": [
    "pytcolbert.text_scorer()(textdf)"
   ]
  },
  {
   "cell_type": "code",
   "execution_count": 11,
   "metadata": {},
   "outputs": [
    {
     "output_type": "stream",
     "name": "stderr",
     "text": [
      "0q [00:00, ?q/s][Feb 20, 17:52:14] #> Search in batches with faiss. \t\t Q.size() = torch.Size([1, 32, 128]), Q_faiss.size() = torch.Size([32, 128])\n",
      "[Feb 20, 17:52:14] #> Searching from 0 to 32...\n",
      "[Feb 20, 17:52:14] #> Lookup the PIDs..\n",
      "[Feb 20, 17:52:14] #> Converting to a list [shape = torch.Size([1, 32000])]..\n",
      "[Feb 20, 17:52:14] #> Removing duplicates (in parallel if large enough)..\n",
      "[Feb 20, 17:52:14] #> Done with embedding_ids_to_pids().\n",
      "qid 1 retrieved docs 2285\n",
      "1q [00:00,  3.95q/s]\n",
      "lookups: 100%|██████████| 2285/2285 [00:00<00:00, 16207.62d/s]\n"
     ]
    },
    {
     "output_type": "execute_result",
     "data": {
      "text/plain": [
       "     qid               query    docno  \\\n",
       "1590   1  chemical reactions  5453527   \n",
       "787    1  chemical reactions  7605154   \n",
       "1786   1  chemical reactions  1833253   \n",
       "1785   1  chemical reactions  1833252   \n",
       "1692   1  chemical reactions  7575552   \n",
       "...   ..                 ...      ...   \n",
       "670    1  chemical reactions  2550278   \n",
       "81     1  chemical reactions  7012663   \n",
       "271    1  chemical reactions  5407710   \n",
       "312    1  chemical reactions  4383811   \n",
       "885    1  chemical reactions  2534761   \n",
       "\n",
       "                                             query_toks  \\\n",
       "1590  [tensor(101), tensor(1), tensor(5072), tensor(...   \n",
       "787   [tensor(101), tensor(1), tensor(5072), tensor(...   \n",
       "1786  [tensor(101), tensor(1), tensor(5072), tensor(...   \n",
       "1785  [tensor(101), tensor(1), tensor(5072), tensor(...   \n",
       "1692  [tensor(101), tensor(1), tensor(5072), tensor(...   \n",
       "...                                                 ...   \n",
       "670   [tensor(101), tensor(1), tensor(5072), tensor(...   \n",
       "81    [tensor(101), tensor(1), tensor(5072), tensor(...   \n",
       "271   [tensor(101), tensor(1), tensor(5072), tensor(...   \n",
       "312   [tensor(101), tensor(1), tensor(5072), tensor(...   \n",
       "885   [tensor(101), tensor(1), tensor(5072), tensor(...   \n",
       "\n",
       "                                             query_embs    docid      score  \\\n",
       "1590  [[tensor(0.0680), tensor(-0.0084), tensor(0.11...  5453527  28.383627   \n",
       "787   [[tensor(0.0680), tensor(-0.0084), tensor(0.11...  7605154  27.988880   \n",
       "1786  [[tensor(0.0680), tensor(-0.0084), tensor(0.11...  1833253  27.975452   \n",
       "1785  [[tensor(0.0680), tensor(-0.0084), tensor(0.11...  1833252  27.825281   \n",
       "1692  [[tensor(0.0680), tensor(-0.0084), tensor(0.11...  7575552  27.794430   \n",
       "...                                                 ...      ...        ...   \n",
       "670   [[tensor(0.0680), tensor(-0.0084), tensor(0.11...  2550278  14.724198   \n",
       "81    [[tensor(0.0680), tensor(-0.0084), tensor(0.11...  7012663  14.690180   \n",
       "271   [[tensor(0.0680), tensor(-0.0084), tensor(0.11...  5407710  13.149469   \n",
       "312   [[tensor(0.0680), tensor(-0.0084), tensor(0.11...  4383811  12.834866   \n",
       "885   [[tensor(0.0680), tensor(-0.0084), tensor(0.11...  2534761  12.814352   \n",
       "\n",
       "      rank  \n",
       "1590     0  \n",
       "787      1  \n",
       "1786     2  \n",
       "1785     3  \n",
       "1692     4  \n",
       "...    ...  \n",
       "670   2280  \n",
       "81    2281  \n",
       "271   2282  \n",
       "312   2283  \n",
       "885   2284  \n",
       "\n",
       "[2285 rows x 8 columns]"
      ],
      "text/html": "<div>\n<style scoped>\n    .dataframe tbody tr th:only-of-type {\n        vertical-align: middle;\n    }\n\n    .dataframe tbody tr th {\n        vertical-align: top;\n    }\n\n    .dataframe thead th {\n        text-align: right;\n    }\n</style>\n<table border=\"1\" class=\"dataframe\">\n  <thead>\n    <tr style=\"text-align: right;\">\n      <th></th>\n      <th>qid</th>\n      <th>query</th>\n      <th>docno</th>\n      <th>query_toks</th>\n      <th>query_embs</th>\n      <th>docid</th>\n      <th>score</th>\n      <th>rank</th>\n    </tr>\n  </thead>\n  <tbody>\n    <tr>\n      <th>1590</th>\n      <td>1</td>\n      <td>chemical reactions</td>\n      <td>5453527</td>\n      <td>[tensor(101), tensor(1), tensor(5072), tensor(...</td>\n      <td>[[tensor(0.0680), tensor(-0.0084), tensor(0.11...</td>\n      <td>5453527</td>\n      <td>28.383627</td>\n      <td>0</td>\n    </tr>\n    <tr>\n      <th>787</th>\n      <td>1</td>\n      <td>chemical reactions</td>\n      <td>7605154</td>\n      <td>[tensor(101), tensor(1), tensor(5072), tensor(...</td>\n      <td>[[tensor(0.0680), tensor(-0.0084), tensor(0.11...</td>\n      <td>7605154</td>\n      <td>27.988880</td>\n      <td>1</td>\n    </tr>\n    <tr>\n      <th>1786</th>\n      <td>1</td>\n      <td>chemical reactions</td>\n      <td>1833253</td>\n      <td>[tensor(101), tensor(1), tensor(5072), tensor(...</td>\n      <td>[[tensor(0.0680), tensor(-0.0084), tensor(0.11...</td>\n      <td>1833253</td>\n      <td>27.975452</td>\n      <td>2</td>\n    </tr>\n    <tr>\n      <th>1785</th>\n      <td>1</td>\n      <td>chemical reactions</td>\n      <td>1833252</td>\n      <td>[tensor(101), tensor(1), tensor(5072), tensor(...</td>\n      <td>[[tensor(0.0680), tensor(-0.0084), tensor(0.11...</td>\n      <td>1833252</td>\n      <td>27.825281</td>\n      <td>3</td>\n    </tr>\n    <tr>\n      <th>1692</th>\n      <td>1</td>\n      <td>chemical reactions</td>\n      <td>7575552</td>\n      <td>[tensor(101), tensor(1), tensor(5072), tensor(...</td>\n      <td>[[tensor(0.0680), tensor(-0.0084), tensor(0.11...</td>\n      <td>7575552</td>\n      <td>27.794430</td>\n      <td>4</td>\n    </tr>\n    <tr>\n      <th>...</th>\n      <td>...</td>\n      <td>...</td>\n      <td>...</td>\n      <td>...</td>\n      <td>...</td>\n      <td>...</td>\n      <td>...</td>\n      <td>...</td>\n    </tr>\n    <tr>\n      <th>670</th>\n      <td>1</td>\n      <td>chemical reactions</td>\n      <td>2550278</td>\n      <td>[tensor(101), tensor(1), tensor(5072), tensor(...</td>\n      <td>[[tensor(0.0680), tensor(-0.0084), tensor(0.11...</td>\n      <td>2550278</td>\n      <td>14.724198</td>\n      <td>2280</td>\n    </tr>\n    <tr>\n      <th>81</th>\n      <td>1</td>\n      <td>chemical reactions</td>\n      <td>7012663</td>\n      <td>[tensor(101), tensor(1), tensor(5072), tensor(...</td>\n      <td>[[tensor(0.0680), tensor(-0.0084), tensor(0.11...</td>\n      <td>7012663</td>\n      <td>14.690180</td>\n      <td>2281</td>\n    </tr>\n    <tr>\n      <th>271</th>\n      <td>1</td>\n      <td>chemical reactions</td>\n      <td>5407710</td>\n      <td>[tensor(101), tensor(1), tensor(5072), tensor(...</td>\n      <td>[[tensor(0.0680), tensor(-0.0084), tensor(0.11...</td>\n      <td>5407710</td>\n      <td>13.149469</td>\n      <td>2282</td>\n    </tr>\n    <tr>\n      <th>312</th>\n      <td>1</td>\n      <td>chemical reactions</td>\n      <td>4383811</td>\n      <td>[tensor(101), tensor(1), tensor(5072), tensor(...</td>\n      <td>[[tensor(0.0680), tensor(-0.0084), tensor(0.11...</td>\n      <td>4383811</td>\n      <td>12.834866</td>\n      <td>2283</td>\n    </tr>\n    <tr>\n      <th>885</th>\n      <td>1</td>\n      <td>chemical reactions</td>\n      <td>2534761</td>\n      <td>[tensor(101), tensor(1), tensor(5072), tensor(...</td>\n      <td>[[tensor(0.0680), tensor(-0.0084), tensor(0.11...</td>\n      <td>2534761</td>\n      <td>12.814352</td>\n      <td>2284</td>\n    </tr>\n  </tbody>\n</table>\n<p>2285 rows × 8 columns</p>\n</div>"
     },
     "metadata": {},
     "execution_count": 11
    }
   ],
   "source": [
    "pytcolbert.end_to_end().search(\"chemical reactions\")"
   ]
  },
  {
   "cell_type": "code",
   "execution_count": 12,
   "metadata": {},
   "outputs": [
    {
     "output_type": "stream",
     "name": "stdout",
     "text": [
      "[Feb 20, 17:52:30] #> Building the emb2tid mapping..\n",
      "687989391\n",
      "Computing collection frequencies\n",
      "Done\n",
      "Loading doclens\n"
     ]
    }
   ],
   "source": [
    "fnt = pytcolbert.nn_term()"
   ]
  },
  {
   "cell_type": "code",
   "execution_count": 13,
   "metadata": {},
   "outputs": [
    {
     "output_type": "execute_result",
     "data": {
      "text/plain": [
       "86132"
      ]
     },
     "metadata": {},
     "execution_count": 13
    }
   ],
   "source": [
    "fnt.getCTF(\"fish\")"
   ]
  },
  {
   "cell_type": "code",
   "execution_count": null,
   "metadata": {},
   "outputs": [],
   "source": []
  }
 ]
}